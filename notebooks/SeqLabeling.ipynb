{
 "cells": [
  {
   "cell_type": "code",
   "execution_count": 1,
   "metadata": {},
   "outputs": [],
   "source": [
    "import sys\n",
    "sys.path.insert(0, \"../\")\n",
    "\n",
    "from checklist_fork.checklist.editor import Editor\n",
    "from src.tests.fill_the_lexicon import fill_the_lexicon\n",
    "from src.tests.test_model import test_model_on_saved_suite, _get_samples_path\n",
    "\n",
    "from src.tests.test_suites.explicit_terms_suites import *\n",
    "import src.config as cfg\n",
    "from checklist_fork.checklist.tests import *\n",
    "from checklist_fork.checklist.graphs.graphs import *\n",
    "import dill\n",
    "\n",
    "editor = Editor()\n",
    "fill_the_lexicon(editor)\n",
    "\n",
    "%load_ext autoreload\n",
    "%autoreload 2\n"
   ]
  },
  {
   "cell_type": "code",
   "execution_count": 2,
   "metadata": {},
   "outputs": [],
   "source": [
    "all_tests = get_all_tests()"
   ]
  },
  {
   "cell_type": "code",
   "execution_count": 3,
   "metadata": {},
   "outputs": [],
   "source": [
    "def save_results(name2result_dict, model_name):\n",
    "    for name, result_dict in name2result_dict.items():\n",
    "        with open(f'{cfg.ROOT}/saved_results/{name}-{model_name}.pkl', 'wb') as f:\n",
    "            dill.dump(result_dict, f, recurse=True)\n",
    "            \n",
    "def load_results(core_name, model_name):\n",
    "    dill._dill._reverse_typemap['ClassType'] = type\n",
    "    \n",
    "    with open(f'{cfg.ROOT}/saved_results/{core_name}-{model_name}.pkl', 'rb') as f:\n",
    "        to_ret = dill.load(f)\n",
    "    return to_ret\n",
    "\n",
    "def run_and_save_res(suite_name, model_name, task=\"SENT\"):\n",
    "    suite = test_model_on_saved_suite(\n",
    "        suite_name=suite_name,\n",
    "        mname=model_name,\n",
    "        #repred=True,\n",
    "        tests=all_tests,\n",
    "        task=task\n",
    "    )\n",
    "\n",
    "    name2result_dict = suite.get_result_dict()\n",
    "    save_results(name2result_dict, model_name)\n",
    "    \n",
    "def load_and_plot(suite_name, model_name, cl):\n",
    "    result_dict = load_results(suite_name, model_name)\n",
    "    plot_all_tests(model_name, result_dict, suite_name, out_dir=f'{cfg.ROOT}/plots', cl=cl, counterfactual=False, skip_group_pcms=False)\n",
    "    plot_all_tests(model_name, result_dict, suite_name, out_dir=f'{cfg.ROOT}/plots', cl=cl, counterfactual=True, skip_group_pcms=False)\n"
   ]
  },
  {
   "cell_type": "code",
   "execution_count": 5,
   "metadata": {},
   "outputs": [],
   "source": [
    "model_name = \"ner-roberta-conll2003\""
   ]
  },
  {
   "cell_type": "markdown",
   "metadata": {},
   "source": [
    "## Religion (MISC)"
   ]
  },
  {
   "cell_type": "code",
   "execution_count": 5,
   "metadata": {},
   "outputs": [
    {
     "name": "stderr",
     "output_type": "stream",
     "text": [
      "INFO:root:Sample already exists, checking that suite matches the sample...\n",
      "INFO:src.tests.test_model:ner-roberta-conll2003 predictions already exist.\n",
      "INFO:src.tests.test_model:>>> Testing ner-roberta-conll2003 ...\n"
     ]
    },
    {
     "name": "stdout",
     "output_type": "stream",
     "text": [
      "/tmp/tmp_inputs.txt /home/ubuntu/workplace/ComprehendBiasTools/predictions/samples-grouped_religion-SENT-full.txt\n"
     ]
    },
    {
     "name": "stderr",
     "output_type": "stream",
     "text": [
      "INFO:checklist_fork.checklist.eval_core:Evaluating on INV...\n",
      "ERROR:checklist_fork.checklist.eval_core:Couldn't run the INV test.\n",
      "ERROR:checklist_fork.checklist.eval_core:list index out of range\n",
      "Traceback (most recent call last):\n",
      "  File \"../checklist_fork/checklist/eval_core.py\", line 465, in run_from_preds_confs\n",
      "    test_res = test.compute(core_record)\n",
      "  File \"../checklist_fork/checklist/tests/task_agnostic/expect_test.py\", line 35, in compute\n",
      "    results = self.expect(core_record)\n",
      "  File \"../checklist_fork/checklist/tests/task_agnostic/expect.py\", line 59, in expect\n",
      "    return [fn(x, pred, confs, labels, meta) for x, pred, confs, labels, meta in zipped]\n",
      "  File \"../checklist_fork/checklist/tests/task_agnostic/expect.py\", line 59, in <listcomp>\n",
      "    return [fn(x, pred, confs, labels, meta) for x, pred, confs, labels, meta in zipped]\n",
      "  File \"../checklist_fork/checklist/tests/task_agnostic/expect.py\", line 125, in expect_fn\n",
      "    [fn(orig_pred, p, orig_conf, c, l, m) for _, p, c, l, m in iter_with_optional(xs, preds, confs, labels, meta)])\n",
      "  File \"../checklist_fork/checklist/tests/task_agnostic/expect.py\", line 125, in <listcomp>\n",
      "    [fn(orig_pred, p, orig_conf, c, l, m) for _, p, c, l, m in iter_with_optional(xs, preds, confs, labels, meta)])\n",
      "  File \"../checklist_fork/checklist/tests/task_agnostic/expect.py\", line 472, in expect\n",
      "    pred, orig_pred, meta)\n",
      "  File \"../checklist_fork/checklist/utils.py\", line 334, in compare_preds_with_mismatched_tokens\n",
      "    elif pred1[p1] != pred2[p2]:\n",
      "IndexError: list index out of range\n",
      "INFO:checklist_fork.checklist.eval_core:Evaluating on seq_metrics...\n",
      "INFO:checklist_fork.checklist.eval_core:Evaluating on fned...\n",
      "INFO:checklist_fork.checklist.eval_core:Evaluating on fped...\n",
      "ERROR:checklist_fork.checklist.eval_core:Couldn't run the fped test.\n",
      "WARNING:checklist_fork.checklist.eval_core:FPR not available for the task, seq:True\n",
      "INFO:checklist_fork.checklist.eval_core:Evaluating on fixed_fned...\n",
      "INFO:checklist_fork.checklist.eval_core:Evaluating on fixed_fped...\n",
      "ERROR:checklist_fork.checklist.eval_core:Couldn't run the fixed_fped test.\n",
      "WARNING:checklist_fork.checklist.eval_core:FPR not available for the task, seq:True\n",
      "INFO:checklist_fork.checklist.eval_core:Evaluating on fpr_ratio_bcm...\n",
      "ERROR:checklist_fork.checklist.eval_core:Couldn't run the fpr_ratio_bcm test.\n",
      "WARNING:checklist_fork.checklist.eval_core:FPR not available for the task, seq:True\n",
      "INFO:checklist_fork.checklist.eval_core:Evaluating on fnr_ratio_bcm...\n",
      "INFO:checklist_fork.checklist.eval_core:Evaluating on tnr_gap_pcm...\n",
      "ERROR:checklist_fork.checklist.eval_core:Couldn't run the tnr_gap_pcm test.\n",
      "WARNING:checklist_fork.checklist.eval_core:TNR not available for the task, seq:True\n",
      "INFO:checklist_fork.checklist.eval_core:Evaluating on tpr_gap_pcm...\n",
      "INFO:checklist_fork.checklist.eval_core:Evaluating on disparsity_score...\n",
      "INFO:checklist_fork.checklist.eval_core:Evaluating on fixed_disparsity_score...\n",
      "INFO:checklist_fork.checklist.eval_core:Evaluating on parity_gap...\n",
      "WARNING:checklist_fork.checklist.core_record:Changed prediction for                 6/7751 tokens after merging confs                 for each entity type.\n",
      "ERROR:checklist_fork.checklist.eval_core:Couldn't run the average_group_fairness test.\n",
      "ERROR:checklist_fork.checklist.eval_core:list index out of range\n",
      "Traceback (most recent call last):\n",
      "  File \"../checklist_fork/checklist/eval_core.py\", line 455, in run_from_preds_confs\n",
      "    core_record = self._get_core_record(test)\n",
      "  File \"../checklist_fork/checklist/eval_core.py\", line 399, in _get_core_record\n",
      "    test.drop_none_labels, test.group_flatten_method)\n",
      "  File \"../checklist_fork/checklist/core_record.py\", line 186, in process_labels_preds_and_confs\n",
      "    self.average_conf_across_tokens_for_identity_term()\n",
      "  File \"../checklist_fork/checklist/core_record.py\", line 675, in average_conf_across_tokens_for_identity_term\n",
      "    sent_confs, sent_preds, sent_meta, gidx)\n",
      "  File \"../checklist_fork/checklist/core_record.py\", line 633, in _merge_tokens_for_identity_term\n",
      "    new_confs.append(sent_confs[p])\n",
      "IndexError: list index out of range\n",
      "WARNING:checklist_fork.checklist.core_record:Changed prediction for                 1/703 tokens after merging confs                 for each entity type.\n",
      "INFO:checklist_fork.checklist.eval_core:Evaluating on average_group_fairness_only_target_class...\n",
      "INFO:checklist_fork.checklist.eval_core:Evaluating on aeg...\n",
      "ERROR:checklist_fork.checklist.eval_core:Couldn't run the aeg test.\n",
      "WARNING:checklist_fork.checklist.eval_core:use_pos_score_in_binary_sent is True but classification is not binary.\n",
      "INFO:checklist_fork.checklist.eval_core:Evaluating on extended_aeg...\n",
      "WARNING:checklist_fork.checklist.core_record:Changed prediction for                 1/703 tokens after merging confs                 for each entity type.\n",
      "INFO:checklist_fork.checklist.eval_core:Evaluating on cfgap_only_target_class...\n",
      "WARNING:checklist_fork.checklist.core_record:Changed prediction for                 6/7751 tokens after merging confs                 for each entity type.\n",
      "ERROR:checklist_fork.checklist.eval_core:Couldn't run the average_individual_fairness_only_target_class test.\n",
      "ERROR:checklist_fork.checklist.eval_core:list index out of range\n",
      "Traceback (most recent call last):\n",
      "  File \"../checklist_fork/checklist/eval_core.py\", line 455, in run_from_preds_confs\n",
      "    core_record = self._get_core_record(test)\n",
      "  File \"../checklist_fork/checklist/eval_core.py\", line 399, in _get_core_record\n",
      "    test.drop_none_labels, test.group_flatten_method)\n",
      "  File \"../checklist_fork/checklist/core_record.py\", line 186, in process_labels_preds_and_confs\n",
      "    self.average_conf_across_tokens_for_identity_term()\n",
      "  File \"../checklist_fork/checklist/core_record.py\", line 684, in average_conf_across_tokens_for_identity_term\n",
      "    gidx, vidx)\n",
      "  File \"../checklist_fork/checklist/core_record.py\", line 633, in _merge_tokens_for_identity_term\n",
      "    new_confs.append(sent_confs[p])\n",
      "IndexError: list index out of range\n",
      "WARNING:checklist_fork.checklist.core_record:Changed prediction for                 6/138231 tokens after merging confs                 for each entity type.\n",
      "ERROR:checklist_fork.checklist.eval_core:Couldn't run the perturb_score_range_only_target_class test.\n",
      "ERROR:checklist_fork.checklist.eval_core:list index out of range\n",
      "Traceback (most recent call last):\n",
      "  File \"../checklist_fork/checklist/eval_core.py\", line 455, in run_from_preds_confs\n",
      "    core_record = self._get_core_record(test)\n",
      "  File \"../checklist_fork/checklist/eval_core.py\", line 399, in _get_core_record\n",
      "    test.drop_none_labels, test.group_flatten_method)\n",
      "  File \"../checklist_fork/checklist/core_record.py\", line 186, in process_labels_preds_and_confs\n",
      "    self.average_conf_across_tokens_for_identity_term()\n",
      "  File \"../checklist_fork/checklist/core_record.py\", line 675, in average_conf_across_tokens_for_identity_term\n",
      "    sent_confs, sent_preds, sent_meta, gidx)\n",
      "  File \"../checklist_fork/checklist/core_record.py\", line 633, in _merge_tokens_for_identity_term\n",
      "    new_confs.append(sent_confs[p])\n",
      "IndexError: list index out of range\n",
      "WARNING:checklist_fork.checklist.core_record:Changed prediction for                 6/138228 tokens after merging confs                 for each entity type.\n",
      "ERROR:checklist_fork.checklist.eval_core:Couldn't run the perturb_score_deviation_only_target_class test.\n",
      "ERROR:checklist_fork.checklist.eval_core:list index out of range\n",
      "Traceback (most recent call last):\n",
      "  File \"../checklist_fork/checklist/eval_core.py\", line 455, in run_from_preds_confs\n",
      "    core_record = self._get_core_record(test)\n",
      "  File \"../checklist_fork/checklist/eval_core.py\", line 399, in _get_core_record\n",
      "    test.drop_none_labels, test.group_flatten_method)\n",
      "  File \"../checklist_fork/checklist/core_record.py\", line 186, in process_labels_preds_and_confs\n",
      "    self.average_conf_across_tokens_for_identity_term()\n",
      "  File \"../checklist_fork/checklist/core_record.py\", line 675, in average_conf_across_tokens_for_identity_term\n",
      "    sent_confs, sent_preds, sent_meta, gidx)\n",
      "  File \"../checklist_fork/checklist/core_record.py\", line 633, in _merge_tokens_for_identity_term\n",
      "    new_confs.append(sent_confs[p])\n",
      "IndexError: list index out of range\n",
      "WARNING:checklist_fork.checklist.core_record:Changed prediction for                 6/138364 tokens after merging confs                 for each entity type.\n"
     ]
    },
    {
     "ename": "KeyboardInterrupt",
     "evalue": "",
     "output_type": "error",
     "traceback": [
      "\u001b[0;31m---------------------------------------------------------------------------\u001b[0m",
      "\u001b[0;31mKeyboardInterrupt\u001b[0m                         Traceback (most recent call last)",
      "\u001b[0;32m<ipython-input-5-d1626f7c8c5d>\u001b[0m in \u001b[0;36m<module>\u001b[0;34m\u001b[0m\n\u001b[0;32m----> 1\u001b[0;31m \u001b[0mrun_and_save_res\u001b[0m\u001b[0;34m(\u001b[0m\u001b[0;34m\"grouped_religion\"\u001b[0m\u001b[0;34m,\u001b[0m \u001b[0mmodel_name\u001b[0m\u001b[0;34m,\u001b[0m \u001b[0mtask\u001b[0m\u001b[0;34m=\u001b[0m\u001b[0;34m\"NER\"\u001b[0m\u001b[0;34m)\u001b[0m\u001b[0;34m\u001b[0m\u001b[0;34m\u001b[0m\u001b[0m\n\u001b[0m",
      "\u001b[0;32m<ipython-input-3-c47bbb2da525>\u001b[0m in \u001b[0;36mrun_and_save_res\u001b[0;34m(suite_name, model_name, task)\u001b[0m\n\u001b[1;32m     17\u001b[0m         \u001b[0;31m#repred=True,\u001b[0m\u001b[0;34m\u001b[0m\u001b[0;34m\u001b[0m\u001b[0;34m\u001b[0m\u001b[0m\n\u001b[1;32m     18\u001b[0m         \u001b[0mtests\u001b[0m\u001b[0;34m=\u001b[0m\u001b[0mall_tests\u001b[0m\u001b[0;34m,\u001b[0m\u001b[0;34m\u001b[0m\u001b[0;34m\u001b[0m\u001b[0m\n\u001b[0;32m---> 19\u001b[0;31m         \u001b[0mtask\u001b[0m\u001b[0;34m=\u001b[0m\u001b[0mtask\u001b[0m\u001b[0;34m\u001b[0m\u001b[0;34m\u001b[0m\u001b[0m\n\u001b[0m\u001b[1;32m     20\u001b[0m     )\n\u001b[1;32m     21\u001b[0m \u001b[0;34m\u001b[0m\u001b[0m\n",
      "\u001b[0;32m~/workplace/ComprehendBiasTools/src/tests/test_model.py\u001b[0m in \u001b[0;36mtest_model_on_saved_suite\u001b[0;34m(suite_name, mname, task, nsamples, repred, tests, get_predictions_fun, data_filter)\u001b[0m\n\u001b[1;32m    149\u001b[0m     suite.run_from_file(\n\u001b[1;32m    150\u001b[0m         \u001b[0mpreds_path\u001b[0m\u001b[0;34m,\u001b[0m \u001b[0mfile_format\u001b[0m\u001b[0;34m=\u001b[0m\u001b[0mfile_format\u001b[0m\u001b[0;34m,\u001b[0m\u001b[0;34m\u001b[0m\u001b[0;34m\u001b[0m\u001b[0m\n\u001b[0;32m--> 151\u001b[0;31m         task=task, data_filter=data_filter, overwrite=True)\n\u001b[0m\u001b[1;32m    152\u001b[0m     \u001b[0msuite\u001b[0m\u001b[0;34m.\u001b[0m\u001b[0msummary\u001b[0m\u001b[0;34m(\u001b[0m\u001b[0;34m)\u001b[0m\u001b[0;34m\u001b[0m\u001b[0;34m\u001b[0m\u001b[0m\n\u001b[1;32m    153\u001b[0m     \u001b[0;32mreturn\u001b[0m \u001b[0msuite\u001b[0m\u001b[0;34m\u001b[0m\u001b[0;34m\u001b[0m\u001b[0m\n",
      "\u001b[0;32m~/workplace/ComprehendBiasTools/checklist_fork/checklist/test_suite.py\u001b[0m in \u001b[0;36mrun_from_file\u001b[0;34m(self, path, file_format, format_fn, task, data_filter, ignore_header, overwrite)\u001b[0m\n\u001b[1;32m    283\u001b[0m \u001b[0;34m\u001b[0m\u001b[0m\n\u001b[1;32m    284\u001b[0m         self.run_from_preds_confs(\n\u001b[0;32m--> 285\u001b[0;31m             preds, confs, label_vocab, task=task, data_filter=data_filter, overwrite=overwrite)\n\u001b[0m\u001b[1;32m    286\u001b[0m \u001b[0;34m\u001b[0m\u001b[0m\n\u001b[1;32m    287\u001b[0m     \u001b[0;31m# TODO: add support for this\u001b[0m\u001b[0;34m\u001b[0m\u001b[0;34m\u001b[0m\u001b[0;34m\u001b[0m\u001b[0m\n",
      "\u001b[0;32m~/workplace/ComprehendBiasTools/checklist_fork/checklist/test_suite.py\u001b[0m in \u001b[0;36mrun_from_preds_confs\u001b[0;34m(self, preds, confs, label_vocab, task, data_filter, overwrite)\u001b[0m\n\u001b[1;32m    244\u001b[0m             t.run_from_preds_confs(\n\u001b[1;32m    245\u001b[0m                 \u001b[0mp\u001b[0m\u001b[0;34m,\u001b[0m \u001b[0mc\u001b[0m\u001b[0;34m,\u001b[0m \u001b[0mlabel_vocab\u001b[0m\u001b[0;34m=\u001b[0m\u001b[0mlabel_vocab\u001b[0m\u001b[0;34m,\u001b[0m \u001b[0mtask\u001b[0m\u001b[0;34m=\u001b[0m\u001b[0mtask\u001b[0m\u001b[0;34m,\u001b[0m\u001b[0;34m\u001b[0m\u001b[0;34m\u001b[0m\u001b[0m\n\u001b[0;32m--> 246\u001b[0;31m                 data_filter=data_filter, overwrite=overwrite)\n\u001b[0m\u001b[1;32m    247\u001b[0m \u001b[0;34m\u001b[0m\u001b[0m\n\u001b[1;32m    248\u001b[0m     def run_from_file(self, path, file_format=None, format_fn=None, task=None,\n",
      "\u001b[0;32m~/workplace/ComprehendBiasTools/checklist_fork/checklist/eval_core.py\u001b[0m in \u001b[0;36mrun_from_preds_confs\u001b[0;34m(self, preds, confs, label_vocab, task, data_filter, overwrite)\u001b[0m\n\u001b[1;32m    453\u001b[0m                 \u001b[0;31m# less efficient, but more safe -- each test gets it's own\u001b[0m\u001b[0;34m\u001b[0m\u001b[0;34m\u001b[0m\u001b[0;34m\u001b[0m\u001b[0m\n\u001b[1;32m    454\u001b[0m                 \u001b[0;31m# copy of a record (with accordingly processed data)\u001b[0m\u001b[0;34m\u001b[0m\u001b[0;34m\u001b[0m\u001b[0;34m\u001b[0m\u001b[0m\n\u001b[0;32m--> 455\u001b[0;31m                 \u001b[0mcore_record\u001b[0m \u001b[0;34m=\u001b[0m \u001b[0mself\u001b[0m\u001b[0;34m.\u001b[0m\u001b[0m_get_core_record\u001b[0m\u001b[0;34m(\u001b[0m\u001b[0mtest\u001b[0m\u001b[0;34m)\u001b[0m\u001b[0;34m\u001b[0m\u001b[0;34m\u001b[0m\u001b[0m\n\u001b[0m\u001b[1;32m    456\u001b[0m \u001b[0;34m\u001b[0m\u001b[0m\n\u001b[1;32m    457\u001b[0m                 if (core_record.sequence and\n",
      "\u001b[0;32m~/workplace/ComprehendBiasTools/checklist_fork/checklist/eval_core.py\u001b[0m in \u001b[0;36m_get_core_record\u001b[0;34m(self, test)\u001b[0m\n\u001b[1;32m    397\u001b[0m             new_record.process_labels_preds_and_confs(\n\u001b[1;32m    398\u001b[0m                 \u001b[0mtest\u001b[0m\u001b[0;34m.\u001b[0m\u001b[0mrequired_ds\u001b[0m\u001b[0;34m,\u001b[0m \u001b[0mtest\u001b[0m\u001b[0;34m.\u001b[0m\u001b[0mprobability_based\u001b[0m\u001b[0;34m,\u001b[0m\u001b[0;34m\u001b[0m\u001b[0;34m\u001b[0m\u001b[0m\n\u001b[0;32m--> 399\u001b[0;31m                 test.drop_none_labels, test.group_flatten_method)\n\u001b[0m\u001b[1;32m    400\u001b[0m             \u001b[0mself\u001b[0m\u001b[0;34m.\u001b[0m\u001b[0mcore_record_cache\u001b[0m\u001b[0;34m[\u001b[0m\u001b[0mcache_entry\u001b[0m\u001b[0;34m]\u001b[0m \u001b[0;34m=\u001b[0m \u001b[0mnew_record\u001b[0m\u001b[0;34m\u001b[0m\u001b[0;34m\u001b[0m\u001b[0m\n\u001b[1;32m    401\u001b[0m             \u001b[0;32mreturn\u001b[0m \u001b[0mdeepcopy\u001b[0m\u001b[0;34m(\u001b[0m\u001b[0mnew_record\u001b[0m\u001b[0;34m)\u001b[0m\u001b[0;34m\u001b[0m\u001b[0;34m\u001b[0m\u001b[0m\n",
      "\u001b[0;32m~/workplace/ComprehendBiasTools/checklist_fork/checklist/core_record.py\u001b[0m in \u001b[0;36mprocess_labels_preds_and_confs\u001b[0;34m(self, required_ds, probability_based, drop_none_labels, group_flatten_method)\u001b[0m\n\u001b[1;32m    184\u001b[0m             \u001b[0;31m# e.g. sum the probabilities for B-ORG, I-ORG, L-ORG\u001b[0m\u001b[0;34m\u001b[0m\u001b[0;34m\u001b[0m\u001b[0;34m\u001b[0m\u001b[0m\n\u001b[1;32m    185\u001b[0m             \u001b[0mself\u001b[0m\u001b[0;34m.\u001b[0m\u001b[0maccumulate_ner_probs\u001b[0m\u001b[0;34m(\u001b[0m\u001b[0;34m)\u001b[0m\u001b[0;34m\u001b[0m\u001b[0;34m\u001b[0m\u001b[0m\n\u001b[0;32m--> 186\u001b[0;31m             \u001b[0mself\u001b[0m\u001b[0;34m.\u001b[0m\u001b[0maverage_conf_across_tokens_for_identity_term\u001b[0m\u001b[0;34m(\u001b[0m\u001b[0;34m)\u001b[0m\u001b[0;34m\u001b[0m\u001b[0;34m\u001b[0m\u001b[0m\n\u001b[0m\u001b[1;32m    187\u001b[0m \u001b[0;34m\u001b[0m\u001b[0m\n\u001b[1;32m    188\u001b[0m     \u001b[0;31m#################################\u001b[0m\u001b[0;34m\u001b[0m\u001b[0;34m\u001b[0m\u001b[0;34m\u001b[0m\u001b[0m\n",
      "\u001b[0;32m~/workplace/ComprehendBiasTools/checklist_fork/checklist/core_record.py\u001b[0m in \u001b[0;36maverage_conf_across_tokens_for_identity_term\u001b[0;34m(self)\u001b[0m\n\u001b[1;32m    673\u001b[0m                     \u001b[0mnew_sent_confs\u001b[0m\u001b[0;34m,\u001b[0m \u001b[0mnew_sent_preds\u001b[0m \u001b[0;34m=\u001b[0m\u001b[0;31m\\\u001b[0m\u001b[0;34m\u001b[0m\u001b[0;34m\u001b[0m\u001b[0m\n\u001b[1;32m    674\u001b[0m                         self._merge_tokens_for_identity_term(\n\u001b[0;32m--> 675\u001b[0;31m                             sent_confs, sent_preds, sent_meta, gidx)\n\u001b[0m\u001b[1;32m    676\u001b[0m                 \u001b[0;32melse\u001b[0m\u001b[0;34m:\u001b[0m\u001b[0;34m\u001b[0m\u001b[0;34m\u001b[0m\u001b[0m\n\u001b[1;32m    677\u001b[0m                     \u001b[0mnew_sent_confs\u001b[0m \u001b[0;34m=\u001b[0m \u001b[0;34m[\u001b[0m\u001b[0;34m]\u001b[0m\u001b[0;34m\u001b[0m\u001b[0;34m\u001b[0m\u001b[0m\n",
      "\u001b[0;32m~/workplace/ComprehendBiasTools/checklist_fork/checklist/core_record.py\u001b[0m in \u001b[0;36m_merge_tokens_for_identity_term\u001b[0;34m(self, sent_confs, sent_preds, sent_meta, gidx, vidx)\u001b[0m\n\u001b[1;32m    611\u001b[0m         \u001b[0;31m# TODO: there can be situations where the tokenization is context-\u001b[0m\u001b[0;34m\u001b[0m\u001b[0;34m\u001b[0m\u001b[0;34m\u001b[0m\u001b[0m\n\u001b[1;32m    612\u001b[0m         \u001b[0;31m# dependent; for now we don't handle such cases\u001b[0m\u001b[0;34m\u001b[0m\u001b[0;34m\u001b[0m\u001b[0;34m\u001b[0m\u001b[0m\n\u001b[0;32m--> 613\u001b[0;31m         \u001b[0mfill_toks\u001b[0m \u001b[0;34m=\u001b[0m \u001b[0mtokenize\u001b[0m\u001b[0;34m(\u001b[0m\u001b[0mgfill\u001b[0m\u001b[0;34m)\u001b[0m\u001b[0;34m\u001b[0m\u001b[0;34m\u001b[0m\u001b[0m\n\u001b[0m\u001b[1;32m    614\u001b[0m \u001b[0;34m\u001b[0m\u001b[0m\n\u001b[1;32m    615\u001b[0m         \u001b[0mnew_confs\u001b[0m \u001b[0;34m=\u001b[0m \u001b[0;34m[\u001b[0m\u001b[0;34m]\u001b[0m\u001b[0;34m\u001b[0m\u001b[0;34m\u001b[0m\u001b[0m\n",
      "\u001b[0;32m~/workplace/ComprehendBiasTools/checklist_fork/checklist/utils.py\u001b[0m in \u001b[0;36mtokenize\u001b[0;34m(sent)\u001b[0m\n\u001b[1;32m     25\u001b[0m \u001b[0;34m\u001b[0m\u001b[0m\n\u001b[1;32m     26\u001b[0m \u001b[0;32mdef\u001b[0m \u001b[0mtokenize\u001b[0m\u001b[0;34m(\u001b[0m\u001b[0msent\u001b[0m\u001b[0;34m:\u001b[0m \u001b[0mstr\u001b[0m\u001b[0;34m)\u001b[0m \u001b[0;34m->\u001b[0m \u001b[0mList\u001b[0m\u001b[0;34m[\u001b[0m\u001b[0mstr\u001b[0m\u001b[0;34m]\u001b[0m\u001b[0;34m:\u001b[0m\u001b[0;34m\u001b[0m\u001b[0;34m\u001b[0m\u001b[0m\n\u001b[0;32m---> 27\u001b[0;31m     \u001b[0;32mreturn\u001b[0m \u001b[0;34m[\u001b[0m\u001b[0mx\u001b[0m\u001b[0;34m.\u001b[0m\u001b[0mtext\u001b[0m \u001b[0;32mfor\u001b[0m \u001b[0mx\u001b[0m \u001b[0;32min\u001b[0m \u001b[0mtokenizer\u001b[0m\u001b[0;34m.\u001b[0m\u001b[0mtokenize\u001b[0m\u001b[0;34m(\u001b[0m\u001b[0msent\u001b[0m\u001b[0;34m)\u001b[0m\u001b[0;34m]\u001b[0m\u001b[0;34m\u001b[0m\u001b[0;34m\u001b[0m\u001b[0m\n\u001b[0m\u001b[1;32m     28\u001b[0m \u001b[0;34m\u001b[0m\u001b[0m\n\u001b[1;32m     29\u001b[0m \u001b[0;34m\u001b[0m\u001b[0m\n",
      "\u001b[0;32m~/anaconda3/envs/btools/lib/python3.7/site-packages/allennlp/data/tokenizers/spacy_tokenizer.py\u001b[0m in \u001b[0;36mtokenize\u001b[0;34m(self, text)\u001b[0m\n\u001b[1;32m    107\u001b[0m     \u001b[0;32mdef\u001b[0m \u001b[0mtokenize\u001b[0m\u001b[0;34m(\u001b[0m\u001b[0mself\u001b[0m\u001b[0;34m,\u001b[0m \u001b[0mtext\u001b[0m\u001b[0;34m:\u001b[0m \u001b[0mstr\u001b[0m\u001b[0;34m)\u001b[0m \u001b[0;34m->\u001b[0m \u001b[0mList\u001b[0m\u001b[0;34m[\u001b[0m\u001b[0mToken\u001b[0m\u001b[0;34m]\u001b[0m\u001b[0;34m:\u001b[0m\u001b[0;34m\u001b[0m\u001b[0;34m\u001b[0m\u001b[0m\n\u001b[1;32m    108\u001b[0m         \u001b[0;31m# This works because our Token class matches spacy's.\u001b[0m\u001b[0;34m\u001b[0m\u001b[0;34m\u001b[0m\u001b[0;34m\u001b[0m\u001b[0m\n\u001b[0;32m--> 109\u001b[0;31m         \u001b[0;32mreturn\u001b[0m \u001b[0mself\u001b[0m\u001b[0;34m.\u001b[0m\u001b[0m_sanitize\u001b[0m\u001b[0;34m(\u001b[0m\u001b[0m_remove_spaces\u001b[0m\u001b[0;34m(\u001b[0m\u001b[0mself\u001b[0m\u001b[0;34m.\u001b[0m\u001b[0mspacy\u001b[0m\u001b[0;34m(\u001b[0m\u001b[0mtext\u001b[0m\u001b[0;34m)\u001b[0m\u001b[0;34m)\u001b[0m\u001b[0;34m)\u001b[0m\u001b[0;34m\u001b[0m\u001b[0;34m\u001b[0m\u001b[0m\n\u001b[0m\u001b[1;32m    110\u001b[0m \u001b[0;34m\u001b[0m\u001b[0m\n\u001b[1;32m    111\u001b[0m \u001b[0;34m\u001b[0m\u001b[0m\n",
      "\u001b[0;32m~/anaconda3/envs/btools/lib/python3.7/site-packages/spacy/language.py\u001b[0m in \u001b[0;36m__call__\u001b[0;34m(self, text, disable, component_cfg)\u001b[0m\n\u001b[1;32m    447\u001b[0m             \u001b[0;32mif\u001b[0m \u001b[0;32mnot\u001b[0m \u001b[0mhasattr\u001b[0m\u001b[0;34m(\u001b[0m\u001b[0mproc\u001b[0m\u001b[0;34m,\u001b[0m \u001b[0;34m\"__call__\"\u001b[0m\u001b[0;34m)\u001b[0m\u001b[0;34m:\u001b[0m\u001b[0;34m\u001b[0m\u001b[0;34m\u001b[0m\u001b[0m\n\u001b[1;32m    448\u001b[0m                 \u001b[0;32mraise\u001b[0m \u001b[0mValueError\u001b[0m\u001b[0;34m(\u001b[0m\u001b[0mErrors\u001b[0m\u001b[0;34m.\u001b[0m\u001b[0mE003\u001b[0m\u001b[0;34m.\u001b[0m\u001b[0mformat\u001b[0m\u001b[0;34m(\u001b[0m\u001b[0mcomponent\u001b[0m\u001b[0;34m=\u001b[0m\u001b[0mtype\u001b[0m\u001b[0;34m(\u001b[0m\u001b[0mproc\u001b[0m\u001b[0;34m)\u001b[0m\u001b[0;34m,\u001b[0m \u001b[0mname\u001b[0m\u001b[0;34m=\u001b[0m\u001b[0mname\u001b[0m\u001b[0;34m)\u001b[0m\u001b[0;34m)\u001b[0m\u001b[0;34m\u001b[0m\u001b[0;34m\u001b[0m\u001b[0m\n\u001b[0;32m--> 449\u001b[0;31m             \u001b[0mdoc\u001b[0m \u001b[0;34m=\u001b[0m \u001b[0mproc\u001b[0m\u001b[0;34m(\u001b[0m\u001b[0mdoc\u001b[0m\u001b[0;34m,\u001b[0m \u001b[0;34m**\u001b[0m\u001b[0mcomponent_cfg\u001b[0m\u001b[0;34m.\u001b[0m\u001b[0mget\u001b[0m\u001b[0;34m(\u001b[0m\u001b[0mname\u001b[0m\u001b[0;34m,\u001b[0m \u001b[0;34m{\u001b[0m\u001b[0;34m}\u001b[0m\u001b[0;34m)\u001b[0m\u001b[0;34m)\u001b[0m\u001b[0;34m\u001b[0m\u001b[0;34m\u001b[0m\u001b[0m\n\u001b[0m\u001b[1;32m    450\u001b[0m             \u001b[0;32mif\u001b[0m \u001b[0mdoc\u001b[0m \u001b[0;32mis\u001b[0m \u001b[0;32mNone\u001b[0m\u001b[0;34m:\u001b[0m\u001b[0;34m\u001b[0m\u001b[0;34m\u001b[0m\u001b[0m\n\u001b[1;32m    451\u001b[0m                 \u001b[0;32mraise\u001b[0m \u001b[0mValueError\u001b[0m\u001b[0;34m(\u001b[0m\u001b[0mErrors\u001b[0m\u001b[0;34m.\u001b[0m\u001b[0mE005\u001b[0m\u001b[0;34m.\u001b[0m\u001b[0mformat\u001b[0m\u001b[0;34m(\u001b[0m\u001b[0mname\u001b[0m\u001b[0;34m=\u001b[0m\u001b[0mname\u001b[0m\u001b[0;34m)\u001b[0m\u001b[0;34m)\u001b[0m\u001b[0;34m\u001b[0m\u001b[0;34m\u001b[0m\u001b[0m\n",
      "\u001b[0;32mpipes.pyx\u001b[0m in \u001b[0;36mspacy.pipeline.pipes.Tagger.__call__\u001b[0;34m()\u001b[0m\n",
      "\u001b[0;32mpipes.pyx\u001b[0m in \u001b[0;36mspacy.pipeline.pipes.Tagger.predict\u001b[0;34m()\u001b[0m\n",
      "\u001b[0;32m~/anaconda3/envs/btools/lib/python3.7/site-packages/thinc/neural/_classes/model.py\u001b[0m in \u001b[0;36m__call__\u001b[0;34m(self, x)\u001b[0m\n\u001b[1;32m    165\u001b[0m             \u001b[0mMust\u001b[0m \u001b[0mmatch\u001b[0m \u001b[0mexpected\u001b[0m \u001b[0mshape\u001b[0m\u001b[0;34m\u001b[0m\u001b[0;34m\u001b[0m\u001b[0m\n\u001b[1;32m    166\u001b[0m         \"\"\"\n\u001b[0;32m--> 167\u001b[0;31m         \u001b[0;32mreturn\u001b[0m \u001b[0mself\u001b[0m\u001b[0;34m.\u001b[0m\u001b[0mpredict\u001b[0m\u001b[0;34m(\u001b[0m\u001b[0mx\u001b[0m\u001b[0;34m)\u001b[0m\u001b[0;34m\u001b[0m\u001b[0;34m\u001b[0m\u001b[0m\n\u001b[0m\u001b[1;32m    168\u001b[0m \u001b[0;34m\u001b[0m\u001b[0m\n\u001b[1;32m    169\u001b[0m     \u001b[0;32mdef\u001b[0m \u001b[0mpipe\u001b[0m\u001b[0;34m(\u001b[0m\u001b[0mself\u001b[0m\u001b[0;34m,\u001b[0m \u001b[0mstream\u001b[0m\u001b[0;34m,\u001b[0m \u001b[0mbatch_size\u001b[0m\u001b[0;34m=\u001b[0m\u001b[0;36m128\u001b[0m\u001b[0;34m)\u001b[0m\u001b[0;34m:\u001b[0m\u001b[0;34m\u001b[0m\u001b[0;34m\u001b[0m\u001b[0m\n",
      "\u001b[0;32m~/anaconda3/envs/btools/lib/python3.7/site-packages/thinc/neural/_classes/feed_forward.py\u001b[0m in \u001b[0;36mpredict\u001b[0;34m(self, X)\u001b[0m\n\u001b[1;32m     38\u001b[0m     \u001b[0;32mdef\u001b[0m \u001b[0mpredict\u001b[0m\u001b[0;34m(\u001b[0m\u001b[0mself\u001b[0m\u001b[0;34m,\u001b[0m \u001b[0mX\u001b[0m\u001b[0;34m)\u001b[0m\u001b[0;34m:\u001b[0m\u001b[0;34m\u001b[0m\u001b[0;34m\u001b[0m\u001b[0m\n\u001b[1;32m     39\u001b[0m         \u001b[0;32mfor\u001b[0m \u001b[0mlayer\u001b[0m \u001b[0;32min\u001b[0m \u001b[0mself\u001b[0m\u001b[0;34m.\u001b[0m\u001b[0m_layers\u001b[0m\u001b[0;34m:\u001b[0m\u001b[0;34m\u001b[0m\u001b[0;34m\u001b[0m\u001b[0m\n\u001b[0;32m---> 40\u001b[0;31m             \u001b[0mX\u001b[0m \u001b[0;34m=\u001b[0m \u001b[0mlayer\u001b[0m\u001b[0;34m(\u001b[0m\u001b[0mX\u001b[0m\u001b[0;34m)\u001b[0m\u001b[0;34m\u001b[0m\u001b[0;34m\u001b[0m\u001b[0m\n\u001b[0m\u001b[1;32m     41\u001b[0m         \u001b[0;32mreturn\u001b[0m \u001b[0mX\u001b[0m\u001b[0;34m\u001b[0m\u001b[0;34m\u001b[0m\u001b[0m\n\u001b[1;32m     42\u001b[0m \u001b[0;34m\u001b[0m\u001b[0m\n",
      "\u001b[0;32m~/anaconda3/envs/btools/lib/python3.7/site-packages/thinc/neural/_classes/model.py\u001b[0m in \u001b[0;36m__call__\u001b[0;34m(self, x)\u001b[0m\n\u001b[1;32m    165\u001b[0m             \u001b[0mMust\u001b[0m \u001b[0mmatch\u001b[0m \u001b[0mexpected\u001b[0m \u001b[0mshape\u001b[0m\u001b[0;34m\u001b[0m\u001b[0;34m\u001b[0m\u001b[0m\n\u001b[1;32m    166\u001b[0m         \"\"\"\n\u001b[0;32m--> 167\u001b[0;31m         \u001b[0;32mreturn\u001b[0m \u001b[0mself\u001b[0m\u001b[0;34m.\u001b[0m\u001b[0mpredict\u001b[0m\u001b[0;34m(\u001b[0m\u001b[0mx\u001b[0m\u001b[0;34m)\u001b[0m\u001b[0;34m\u001b[0m\u001b[0;34m\u001b[0m\u001b[0m\n\u001b[0m\u001b[1;32m    168\u001b[0m \u001b[0;34m\u001b[0m\u001b[0m\n\u001b[1;32m    169\u001b[0m     \u001b[0;32mdef\u001b[0m \u001b[0mpipe\u001b[0m\u001b[0;34m(\u001b[0m\u001b[0mself\u001b[0m\u001b[0;34m,\u001b[0m \u001b[0mstream\u001b[0m\u001b[0;34m,\u001b[0m \u001b[0mbatch_size\u001b[0m\u001b[0;34m=\u001b[0m\u001b[0;36m128\u001b[0m\u001b[0;34m)\u001b[0m\u001b[0;34m:\u001b[0m\u001b[0;34m\u001b[0m\u001b[0;34m\u001b[0m\u001b[0m\n",
      "\u001b[0;32m~/anaconda3/envs/btools/lib/python3.7/site-packages/thinc/api.py\u001b[0m in \u001b[0;36mpredict\u001b[0;34m(seqs_in)\u001b[0m\n\u001b[1;32m    307\u001b[0m \u001b[0;34m\u001b[0m\u001b[0m\n\u001b[1;32m    308\u001b[0m     \u001b[0;32mdef\u001b[0m \u001b[0mpredict\u001b[0m\u001b[0;34m(\u001b[0m\u001b[0mseqs_in\u001b[0m\u001b[0;34m)\u001b[0m\u001b[0;34m:\u001b[0m\u001b[0;34m\u001b[0m\u001b[0;34m\u001b[0m\u001b[0m\n\u001b[0;32m--> 309\u001b[0;31m         \u001b[0mlengths\u001b[0m \u001b[0;34m=\u001b[0m \u001b[0mlayer\u001b[0m\u001b[0;34m.\u001b[0m\u001b[0mops\u001b[0m\u001b[0;34m.\u001b[0m\u001b[0masarray\u001b[0m\u001b[0;34m(\u001b[0m\u001b[0;34m[\u001b[0m\u001b[0mlen\u001b[0m\u001b[0;34m(\u001b[0m\u001b[0mseq\u001b[0m\u001b[0;34m)\u001b[0m \u001b[0;32mfor\u001b[0m \u001b[0mseq\u001b[0m \u001b[0;32min\u001b[0m \u001b[0mseqs_in\u001b[0m\u001b[0;34m]\u001b[0m\u001b[0;34m)\u001b[0m\u001b[0;34m\u001b[0m\u001b[0;34m\u001b[0m\u001b[0m\n\u001b[0m\u001b[1;32m    310\u001b[0m         \u001b[0mX\u001b[0m \u001b[0;34m=\u001b[0m \u001b[0mlayer\u001b[0m\u001b[0;34m(\u001b[0m\u001b[0mlayer\u001b[0m\u001b[0;34m.\u001b[0m\u001b[0mops\u001b[0m\u001b[0;34m.\u001b[0m\u001b[0mflatten\u001b[0m\u001b[0;34m(\u001b[0m\u001b[0mseqs_in\u001b[0m\u001b[0;34m,\u001b[0m \u001b[0mpad\u001b[0m\u001b[0;34m=\u001b[0m\u001b[0mpad\u001b[0m\u001b[0;34m)\u001b[0m\u001b[0;34m)\u001b[0m\u001b[0;34m\u001b[0m\u001b[0;34m\u001b[0m\u001b[0m\n\u001b[1;32m    311\u001b[0m         \u001b[0;32mreturn\u001b[0m \u001b[0mlayer\u001b[0m\u001b[0;34m.\u001b[0m\u001b[0mops\u001b[0m\u001b[0;34m.\u001b[0m\u001b[0munflatten\u001b[0m\u001b[0;34m(\u001b[0m\u001b[0mX\u001b[0m\u001b[0;34m,\u001b[0m \u001b[0mlengths\u001b[0m\u001b[0;34m,\u001b[0m \u001b[0mpad\u001b[0m\u001b[0;34m=\u001b[0m\u001b[0mpad\u001b[0m\u001b[0;34m)\u001b[0m\u001b[0;34m\u001b[0m\u001b[0;34m\u001b[0m\u001b[0m\n",
      "\u001b[0;31mKeyboardInterrupt\u001b[0m: "
     ]
    }
   ],
   "source": [
    "run_and_save_res(\"grouped_religion\", model_name, task=\"NER\")"
   ]
  },
  {
   "cell_type": "code",
   "execution_count": null,
   "metadata": {},
   "outputs": [],
   "source": [
    "load_and_plot(\"grouped_religion\", model_name, cl=\"MISC\")"
   ]
  },
  {
   "cell_type": "markdown",
   "metadata": {},
   "source": [
    "## Nationality (LOC)"
   ]
  },
  {
   "cell_type": "code",
   "execution_count": 7,
   "metadata": {},
   "outputs": [
    {
     "name": "stderr",
     "output_type": "stream",
     "text": [
      "INFO:root:Sample already exists, checking that suite matches the sample...\n",
      "INFO:src.tests.test_model:ner-roberta-conll2003 predictions already exist.\n",
      "INFO:src.tests.test_model:>>> Testing ner-roberta-conll2003 ...\n"
     ]
    },
    {
     "name": "stdout",
     "output_type": "stream",
     "text": [
      "/tmp/tmp_inputs.txt /home/ubuntu/workplace/ComprehendBiasTools/predictions/samples-grouped_country_by_gdp_ppp_quantile-SENT-full.txt\n"
     ]
    },
    {
     "name": "stderr",
     "output_type": "stream",
     "text": [
      "INFO:checklist_fork.checklist.eval_core:Evaluating on INV...\n",
      "INFO:checklist_fork.checklist.eval_core:Evaluating on seq_metrics...\n",
      "INFO:checklist_fork.checklist.eval_core:Evaluating on fned...\n",
      "INFO:checklist_fork.checklist.eval_core:Evaluating on fped...\n",
      "ERROR:checklist_fork.checklist.eval_core:Couldn't run the fped test.\n",
      "WARNING:checklist_fork.checklist.eval_core:FPR not available for the task, seq:True\n",
      "INFO:checklist_fork.checklist.eval_core:Evaluating on fixed_fned...\n",
      "INFO:checklist_fork.checklist.eval_core:Evaluating on fixed_fped...\n",
      "ERROR:checklist_fork.checklist.eval_core:Couldn't run the fixed_fped test.\n",
      "WARNING:checklist_fork.checklist.eval_core:FPR not available for the task, seq:True\n",
      "INFO:checklist_fork.checklist.eval_core:Evaluating on fpr_ratio_bcm...\n",
      "ERROR:checklist_fork.checklist.eval_core:Couldn't run the fpr_ratio_bcm test.\n",
      "WARNING:checklist_fork.checklist.eval_core:FPR not available for the task, seq:True\n",
      "INFO:checklist_fork.checklist.eval_core:Evaluating on fnr_ratio_bcm...\n",
      "INFO:checklist_fork.checklist.eval_core:Evaluating on tnr_gap_pcm...\n",
      "ERROR:checklist_fork.checklist.eval_core:Couldn't run the tnr_gap_pcm test.\n",
      "WARNING:checklist_fork.checklist.eval_core:TNR not available for the task, seq:True\n",
      "INFO:checklist_fork.checklist.eval_core:Evaluating on tpr_gap_pcm...\n",
      "INFO:checklist_fork.checklist.eval_core:Evaluating on disparsity_score...\n",
      "INFO:checklist_fork.checklist.eval_core:Evaluating on fixed_disparsity_score...\n",
      "INFO:checklist_fork.checklist.eval_core:Evaluating on parity_gap...\n",
      "WARNING:checklist_fork.checklist.core_record:Changed prediction for                 141/103152 tokens after merging confs                 for each entity type.\n",
      "INFO:checklist_fork.checklist.eval_core:Evaluating on average_group_fairness...\n",
      "WARNING:checklist_fork.checklist.core_record:Changed prediction for                 24/36866 tokens after merging confs                 for each entity type.\n",
      "INFO:checklist_fork.checklist.eval_core:Evaluating on average_group_fairness_only_target_class...\n",
      "INFO:checklist_fork.checklist.eval_core:Evaluating on aeg...\n",
      "ERROR:checklist_fork.checklist.eval_core:Couldn't run the aeg test.\n",
      "WARNING:checklist_fork.checklist.eval_core:use_pos_score_in_binary_sent is True but classification is not binary.\n",
      "INFO:checklist_fork.checklist.eval_core:Evaluating on extended_aeg...\n",
      "WARNING:checklist_fork.checklist.core_record:Changed prediction for                 22/118201 tokens after merging confs                 for each entity type.\n",
      "INFO:checklist_fork.checklist.eval_core:Evaluating on cfgap_only_target_class...\n",
      "WARNING:checklist_fork.checklist.core_record:Changed prediction for                 141/103152 tokens after merging confs                 for each entity type.\n",
      "INFO:checklist_fork.checklist.eval_core:Evaluating on average_individual_fairness_only_target_class...\n",
      "ERROR:checklist_fork.checklist.eval_core:Couldn't run the average_individual_fairness_only_target_class test.\n",
      "ERROR:checklist_fork.checklist.eval_core:zip argument #2 must support iteration\n",
      "Traceback (most recent call last):\n",
      "  File \"../checklist_fork/checklist/eval_core.py\", line 465, in run_from_preds_confs\n",
      "    test_res = test.compute(core_record)\n",
      "  File \"../checklist_fork/checklist/tests/abstract_tests/generalized_metrics.py\", line 151, in compute\n",
      "    labels, preds, confs, meta)\n",
      "  File \"../checklist_fork/checklist/tests/abstract_tests/generalized_metrics.py\", line 390, in get_scores_for_relevant_example_sets\n",
      "    results[gname] = self.get_group_score(labels, preds, confs, meta)\n",
      "  File \"../checklist_fork/checklist/tests/task_agnostic/prob_scores.py\", line 105, in get_group_score\n",
      "    for example_confs, example_labels in zip(confs, labels):\n",
      "TypeError: zip argument #2 must support iteration\n",
      "WARNING:checklist_fork.checklist.core_record:Changed prediction for                 138/332150 tokens after merging confs                 for each entity type.\n",
      "INFO:checklist_fork.checklist.eval_core:Evaluating on perturb_score_range_only_target_class...\n",
      "ERROR:checklist_fork.checklist.eval_core:Couldn't run the perturb_score_range_only_target_class test.\n",
      "ERROR:checklist_fork.checklist.eval_core:zip argument #2 must support iteration\n",
      "Traceback (most recent call last):\n",
      "  File \"../checklist_fork/checklist/eval_core.py\", line 465, in run_from_preds_confs\n",
      "    test_res = test.compute(core_record)\n",
      "  File \"../checklist_fork/checklist/tests/abstract_tests/generalized_metrics.py\", line 151, in compute\n",
      "    labels, preds, confs, meta)\n",
      "  File \"../checklist_fork/checklist/tests/abstract_tests/generalized_metrics.py\", line 404, in get_scores_for_relevant_example_sets\n",
      "    results[gname] = self.get_group_score(labels, preds, confs, meta)\n",
      "  File \"../checklist_fork/checklist/tests/task_agnostic/prob_scores.py\", line 105, in get_group_score\n",
      "    for example_confs, example_labels in zip(confs, labels):\n",
      "TypeError: zip argument #2 must support iteration\n",
      "INFO:checklist_fork.checklist.eval_core:Evaluating on perturb_score_deviation_only_target_class...\n",
      "ERROR:checklist_fork.checklist.eval_core:Couldn't run the perturb_score_deviation_only_target_class test.\n",
      "ERROR:checklist_fork.checklist.eval_core:zip argument #2 must support iteration\n",
      "Traceback (most recent call last):\n",
      "  File \"../checklist_fork/checklist/eval_core.py\", line 465, in run_from_preds_confs\n",
      "    test_res = test.compute(core_record)\n",
      "  File \"../checklist_fork/checklist/tests/abstract_tests/generalized_metrics.py\", line 151, in compute\n",
      "    labels, preds, confs, meta)\n",
      "  File \"../checklist_fork/checklist/tests/abstract_tests/generalized_metrics.py\", line 404, in get_scores_for_relevant_example_sets\n",
      "    results[gname] = self.get_group_score(labels, preds, confs, meta)\n",
      "  File \"../checklist_fork/checklist/tests/task_agnostic/prob_scores.py\", line 105, in get_group_score\n",
      "    for example_confs, example_labels in zip(confs, labels):\n",
      "TypeError: zip argument #2 must support iteration\n",
      "INFO:checklist_fork.checklist.eval_core:Evaluating on cfgap...\n",
      "INFO:checklist_fork.checklist.eval_core:Evaluating on average_individual_fairness...\n",
      "INFO:checklist_fork.checklist.eval_core:Evaluating on perturb_score_range...\n",
      "INFO:checklist_fork.checklist.eval_core:Evaluating on perturb_score_deviation...\n",
      "INFO:checklist_fork.checklist.eval_core:Evaluating on perturbation_score_sensitivity...\n"
     ]
    },
    {
     "name": "stdout",
     "output_type": "stream",
     "text": [
      "grouped_country_by_gdp_ppp_quantile\n",
      "\n",
      "##########################################################\n",
      "#                                                        #\n",
      "#     Eval Core: grouped_country_by_gdp_ppp_quantile     #\n",
      "#                                                        #\n",
      "##########################################################\n",
      "\n",
      "===================\n",
      "TEST 1: INV\n"
     ]
    },
    {
     "name": "stderr",
     "output_type": "stream",
     "text": [
      "WARNING:checklist_fork.checklist.eval_core:Missing results for the test. Reason: only size-1 arrays can be converted to Python scalars\n",
      "WARNING:checklist_fork.checklist.eval_core:Missing results for test class_metrics\n"
     ]
    },
    {
     "name": "stdout",
     "output_type": "stream",
     "text": [
      "Test cases:      6300\n",
      "Fails (rate):    2524 (40.1%)\n",
      "\n",
      "Example fails:\n",
      "['O', 'O', 'O', 'O', 'U-MISC', 'O'] Many renowned artists are Lesothan.\n",
      "['O', 'O', 'O', 'O', 'U-PER', 'O'] Many renowned artists are Kosovar.\n",
      "\n",
      "----\n",
      "\n",
      "===================\n",
      "TEST 2: seq_metrics\n",
      "Examples used for evaluation: {'1q': 704, '2q': 680, '3q': 682, '4q': 682, '5q': 682, '6q': 682}\n",
      "======== CLASS LOC\n",
      "----------  -------  -------  -------  -------  -------  -------  --------\n",
      "Groups:     1q       2q       3q       4q       5q       6q       all\n",
      "F1:         0.722    0.906    0.918    0.946    0.954    0.963    0.899\n",
      "FN:         167.000  65.000   52.000   39.000   35.000   26.000   384.000\n",
      "FNR:        0.237    0.095    0.076    0.057    0.051    0.038    0.093\n",
      "FP:         247.000  63.000   60.000   35.000   28.000   24.000   457.000\n",
      "TP:         537.000  617.000  630.000  643.000  647.000  656.000  3730.000\n",
      "TPR:        0.763    0.905    0.924    0.943    0.949    0.962    0.907\n",
      "precision:  0.685    0.907    0.913    0.948    0.959    0.965    0.891\n",
      "recall:     0.763    0.905    0.924    0.943    0.949    0.962    0.907\n",
      "----------  -------  -------  -------  -------  -------  -------  --------\n",
      "======== CLASS MISC\n",
      "----------  ------  ------  ------  ------  ------  ------  -------\n",
      "Groups:     1q      2q      3q      4q      5q      6q      all\n",
      "F1:         0.480   0.577   0.589   0.577   0.604   0.611   0.572\n",
      "FN:         40.000  33.000  34.000  34.000  33.000  33.000  207.000\n",
      "FNR:        0.625   0.541   0.548   0.548   0.532   0.532   0.555\n",
      "FP:         12.000  8.000   5.000   7.000   5.000   4.000   41.000\n",
      "TP:         24.000  28.000  28.000  28.000  29.000  29.000  166.000\n",
      "TPR:        0.375   0.459   0.452   0.452   0.468   0.468   0.445\n",
      "precision:  0.667   0.778   0.848   0.800   0.853   0.879   0.802\n",
      "recall:     0.375   0.459   0.452   0.452   0.468   0.468   0.445\n",
      "----------  ------  ------  ------  ------  ------  ------  -------\n",
      "======== CLASS ORG\n",
      "----------  ------  ------  ------  ------  ------  ------  -------\n",
      "Groups:     1q      2q      3q      4q      5q      6q      all\n",
      "F1:         0.403   0.545   0.528   0.515   0.571   0.624   0.526\n",
      "FN:         8.000   3.000   3.000   6.000   3.000   2.000   25.000\n",
      "FNR:        0.250   0.100   0.097   0.194   0.097   0.065   0.134\n",
      "FP:         63.000  42.000  47.000  41.000  39.000  33.000  265.000\n",
      "TP:         24.000  27.000  28.000  25.000  28.000  29.000  161.000\n",
      "TPR:        0.750   0.900   0.903   0.806   0.903   0.935   0.866\n",
      "precision:  0.276   0.391   0.373   0.379   0.418   0.468   0.378\n",
      "recall:     0.750   0.900   0.903   0.806   0.903   0.935   0.866\n",
      "----------  ------  ------  ------  ------  ------  ------  -------\n",
      "======== CLASS PER\n",
      "----------  ------  ------  ------  ------  ------  ------  -------\n",
      "Groups:     1q      2q      3q      4q      5q      6q      all\n",
      "F1:         0.753   0.743   0.800   0.800   0.800   0.800   0.782\n",
      "FN:         0.000   0.000   0.000   0.000   0.000   0.000   0.000\n",
      "FNR:        0.000   0.000   0.000   0.000   0.000   0.000   0.000\n",
      "FP:         42.000  43.000  31.000  31.000  31.000  31.000  209.000\n",
      "TP:         64.000  62.000  62.000  62.000  62.000  62.000  374.000\n",
      "TPR:        1.000   1.000   1.000   1.000   1.000   1.000   1.000\n",
      "precision:  0.604   0.590   0.667   0.667   0.667   0.667   0.642\n",
      "recall:     1.000   1.000   1.000   1.000   1.000   1.000   1.000\n",
      "----------  ------  ------  ------  ------  ------  ------  -------\n",
      "======== CLASS all\n",
      "----------  -------  -------  -------  -------  -------  -------  --------\n",
      "Groups:     1q       2q       3q       4q       5q       6q       all\n",
      "F1:         0.692    0.851    0.866    0.887    0.898    0.910    0.848\n",
      "FN:         215.000  101.000  89.000   79.000   71.000   61.000   616.000\n",
      "FNR:        0.249    0.121    0.106    0.094    0.085    0.073    0.122\n",
      "FP:         364.000  156.000  143.000  114.000  103.000  92.000   972.000\n",
      "TP:         649.000  734.000  748.000  758.000  766.000  776.000  4431.000\n",
      "TPR:        0.751    0.879    0.894    0.906    0.915    0.927    0.878\n",
      "precision:  0.641    0.825    0.840    0.869    0.881    0.894    0.820\n",
      "recall:     0.751    0.879    0.894    0.906    0.915    0.927    0.878\n",
      "----------  -------  -------  -------  -------  -------  -------  --------\n",
      "\n",
      "===================\n",
      "TEST 3: class_metrics\n",
      "\n",
      "===================\n",
      "TEST 4: fned\n"
     ]
    },
    {
     "name": "stderr",
     "output_type": "stream",
     "text": [
      "WARNING:checklist_fork.checklist.eval_core:Missing results for test fped.\n",
      "ERROR:checklist_fork.checklist.eval_core:Reason: FPR not available for the task, seq:True\n",
      "NoneType: None\n",
      "WARNING:checklist_fork.checklist.eval_core:Missing results for test fixed_fped.\n",
      "ERROR:checklist_fork.checklist.eval_core:Reason: FPR not available for the task, seq:True\n",
      "NoneType: None\n",
      "WARNING:checklist_fork.checklist.eval_core:Missing results for test fpr_ratio_bcm.\n",
      "ERROR:checklist_fork.checklist.eval_core:Reason: FPR not available for the task, seq:True\n",
      "NoneType: None\n"
     ]
    },
    {
     "name": "stdout",
     "output_type": "stream",
     "text": [
      "Examples used for evaluation: {'1q': 704, '2q': 680, '3q': 682, '4q': 682, '5q': 682, '6q': 682}\n",
      "Groups: 1q 2q 3q 4q 5q 6q\n",
      "-----  -----  -----  -----  -----  -----  -----  -----------\n",
      "CLASS  1q     2q     3q     4q     5q     6q     accumulated\n",
      "LOC    0.144  0.002  0.017  0.036  0.042  0.055  0.296\n",
      "MISC   0.070  0.014  0.007  0.007  0.023  0.023  0.143\n",
      "ORG    0.116  0.034  0.038  0.059  0.038  0.070  0.354\n",
      "PER    0.000  0.000  0.000  0.000  0.000  0.000  0.000\n",
      "-----  -----  -----  -----  -----  -----  -----  -----------\n",
      "\n",
      "===================\n",
      "TEST 5: fped\n",
      "\n",
      "===================\n",
      "TEST 6: fixed_fned\n",
      "Examples used for evaluation: {'1q': 704, '2q': 680, '3q': 682, '4q': 682, '5q': 682, '6q': 682}\n",
      "Groups: 1q 2q 3q 4q 5q 6q\n",
      "-----  -----  -----  -----  -----  -----  -----  -----------\n",
      "CLASS  1q     2q     3q     4q     5q     6q     accumulated\n",
      "LOC    0.144  0.002  0.017  0.036  0.042  0.055  0.049\n",
      "MISC   0.070  0.014  0.007  0.007  0.023  0.023  0.024\n",
      "ORG    0.116  0.034  0.038  0.059  0.038  0.070  0.059\n",
      "PER    0.000  0.000  0.000  0.000  0.000  0.000  0.000\n",
      "-----  -----  -----  -----  -----  -----  -----  -----------\n",
      "\n",
      "===================\n",
      "TEST 7: fixed_fped\n",
      "\n",
      "===================\n",
      "TEST 8: fpr_ratio_bcm\n",
      "\n",
      "===================\n",
      "TEST 9: fnr_ratio_bcm\n"
     ]
    },
    {
     "name": "stderr",
     "output_type": "stream",
     "text": [
      "WARNING:checklist_fork.checklist.eval_core:Missing results for test tnr_gap_pcm.\n",
      "ERROR:checklist_fork.checklist.eval_core:Reason: TNR not available for the task, seq:True\n",
      "NoneType: None\n"
     ]
    },
    {
     "name": "stdout",
     "output_type": "stream",
     "text": [
      "Examples used for evaluation: {'1q': 704, '2q': 680, '3q': 682, '4q': 682, '5q': 682, '6q': 682}\n",
      "Groups: 1q 2q 3q 4q 5q 6q\n",
      "-----  -----  -----  -----  -----  -----  -----  -----------\n",
      "CLASS  1q     2q     3q     4q     5q     6q     accumulated\n",
      "LOC    3.728  1.025  0.788  0.569  0.505  0.365  1.163\n",
      "MISC   1.156  0.970  0.986  0.986  0.951  0.951  1.000\n",
      "ORG    2.265  0.709  0.682  1.579  0.682  0.435  1.059\n",
      "PER    0.000  0.000  0.000  0.000  0.000  0.000  0.000\n",
      "-----  -----  -----  -----  -----  -----  -----  -----------\n",
      "\n",
      "===================\n",
      "TEST 10: tnr_gap_pcm\n",
      "\n",
      "===================\n",
      "TEST 11: tpr_gap_pcm\n",
      "Examples used for evaluation: {'1q': 704, '2q': 680, '3q': 682, '4q': 682, '5q': 682, '6q': 682}\n",
      "Groups: 1q 2q 3q 4q 5q 6q\n",
      "-----  -----------\n",
      "CLASS  tpr_gap_pcm\n",
      "LOC    0.076\n",
      "MISC   0.035\n",
      "ORG    0.081\n",
      "PER    0.000\n",
      "-----  -----------\n",
      "\n",
      "===================\n",
      "TEST 12: disparsity_score\n",
      "Examples used for evaluation: {'1q': 704, '2q': 680, '3q': 682, '4q': 682, '5q': 682, '6q': 682}\n",
      "Groups: 1q 2q 3q 4q 5q 6q\n",
      "-----  ----------------\n",
      "CLASS  disparsity_score\n",
      "LOC    0.230\n",
      "MISC   0.124\n",
      "ORG    0.214\n",
      "PER    0.071\n",
      "-----  ----------------\n",
      "\n",
      "===================\n",
      "TEST 13: fixed_disparsity_score\n",
      "Examples used for evaluation: {'1q': 704, '2q': 680, '3q': 682, '4q': 682, '5q': 682, '6q': 682}\n",
      "Groups: 1q 2q 3q 4q 5q 6q\n",
      "-----  ----------------------\n",
      "CLASS  fixed_disparsity_score\n",
      "LOC    0.092\n",
      "MISC   0.050\n",
      "ORG    0.086\n",
      "PER    0.029\n",
      "-----  ----------------------\n",
      "\n",
      "===================\n",
      "TEST 14: parity_gap\n",
      "Examples used for evaluation: {'1q': 704, '2q': 680, '3q': 682, '4q': 682, '5q': 682, '6q': 682}\n",
      "Groups: 1q 2q 3q 4q 5q 6q\n",
      "-----  ----------\n",
      "CLASS  parity_gap\n",
      "LOC    0.045\n",
      "MISC   0.002\n",
      "ORG    0.014\n",
      "PER    0.009\n",
      "-----  ----------\n",
      "\n",
      "===================\n",
      "TEST 15: average_group_fairness\n",
      "Examples used for evaluation: {'1q': 2016, '2q': 1910, '3q': 1953, '4q': 1953, '5q': 1953, '6q': 1953}\n",
      "Groups: 1q 2q 3q 4q 5q 6q\n",
      "-----  -----  -----  -----  -----  -----  -----  -----------\n",
      "CLASS  1q     2q     3q     4q     5q     6q     accumulated\n",
      "LOC    0.003  0.000  0.001  0.003  0.002  0.002  0.002\n",
      "MISC   0.004  0.001  0.001  0.001  0.001  0.004  0.002\n",
      "O      0.005  0.001  0.001  0.001  0.002  0.002  0.002\n",
      "ORG    0.004  0.000  0.000  0.001  0.001  0.002  0.001\n",
      "PER    0.005  0.000  0.000  0.002  0.001  0.002  0.002\n",
      "-----  -----  -----  -----  -----  -----  -----  -----------\n",
      "\n",
      "===================\n",
      "TEST 16: average_group_fairness_only_target_class\n"
     ]
    },
    {
     "name": "stderr",
     "output_type": "stream",
     "text": [
      "WARNING:checklist_fork.checklist.eval_core:Missing results for test aeg.\n",
      "ERROR:checklist_fork.checklist.eval_core:Reason: use_pos_score_in_binary_sent is True but classification is not binary.\n",
      "NoneType: None\n"
     ]
    },
    {
     "name": "stdout",
     "output_type": "stream",
     "text": [
      "Examples used for evaluation: {'1q': 704, '2q': 680, '3q': 682, '4q': 682, '5q': 682, '6q': 682}\n",
      "Groups: 1q 2q 3q 4q 5q 6q\n",
      "-----  -----  -----  -----  -----  -----  -----  -----------\n",
      "CLASS  1q     2q     3q     4q     5q     6q     accumulated\n",
      "LOC    0.084  0.015  0.006  0.031  0.025  0.040  0.033\n",
      "MISC   0.014  0.005  0.009  0.005  0.009  0.012  0.009\n",
      "O      0.018  0.003  0.002  0.001  0.005  0.008  0.006\n",
      "ORG    0.011  0.012  0.016  0.021  0.007  0.021  0.015\n",
      "PER    0.000  0.000  0.000  0.000  0.000  0.000  0.000\n",
      "-----  -----  -----  -----  -----  -----  -----  -----------\n",
      "\n",
      "===================\n",
      "TEST 17: aeg\n",
      "\n",
      "===================\n",
      "TEST 18: extended_aeg\n",
      "Examples used for evaluation: {'1q': 704, '2q': 680, '3q': 682, '4q': 682, '5q': 682, '6q': 682}\n",
      "Groups: 1q 2q 3q 4q 5q 6q\n",
      "-----  ------  ------  ------  ------  ------  ------  -----------\n",
      "CLASS  1q      2q      3q      4q      5q      6q      accumulated\n",
      "LOC    -0.210  -0.044  0.024   0.021   0.096   0.118   0.001\n",
      "MISC   -0.028  -0.008  0.000   -0.036  0.024   0.048   0.000\n",
      "O      -0.012  -0.003  -0.000  -0.000  0.007   0.009   0.000\n",
      "ORG    0.103   0.092   0.068   -0.055  -0.049  -0.159  -0.000\n",
      "PER    0.088   0.006   0.045   0.010   -0.102  -0.050  -0.000\n",
      "-----  ------  ------  ------  ------  ------  ------  -----------\n",
      "\n",
      "===================\n",
      "TEST 19: cfgap_only_target_class\n",
      "Examples used for evaluation: 2200\n",
      "Groups: 1q 2q 3q 4q 5q 6q\n",
      "-----  -----------------------\n",
      "CLASS  cfgap_only_target_class\n",
      "MISC   0.001\n",
      "O      0.022\n",
      "ORG    0.002\n",
      "LOC    0.060\n",
      "PER    0.000\n",
      "-----  -----------------------\n",
      "\n",
      "===================\n",
      "TEST 20: average_individual_fairness_only_target_class\n"
     ]
    },
    {
     "name": "stderr",
     "output_type": "stream",
     "text": [
      "WARNING:checklist_fork.checklist.eval_core:Missing results for the test. Reason: 'TypeError' object has no attribute 'results'\n"
     ]
    },
    {
     "name": "stdout",
     "output_type": "stream",
     "text": [
      "\n",
      "===================\n",
      "TEST 21: perturb_score_range_only_target_class\n"
     ]
    },
    {
     "name": "stderr",
     "output_type": "stream",
     "text": [
      "WARNING:checklist_fork.checklist.eval_core:Missing results for the test. Reason: 'TypeError' object has no attribute 'results'\n"
     ]
    },
    {
     "name": "stdout",
     "output_type": "stream",
     "text": [
      "\n",
      "===================\n",
      "TEST 22: perturb_score_deviation_only_target_class\n"
     ]
    },
    {
     "name": "stderr",
     "output_type": "stream",
     "text": [
      "WARNING:checklist_fork.checklist.eval_core:Missing results for the test. Reason: 'TypeError' object has no attribute 'results'\n"
     ]
    },
    {
     "name": "stdout",
     "output_type": "stream",
     "text": [
      "\n",
      "===================\n",
      "TEST 23: cfgap\n",
      "Examples used for evaluation: 6300\n",
      "Groups: 1q 2q 3q 4q 5q 6q\n",
      "-----  -----\n",
      "CLASS  cfgap\n",
      "LOC    0.017\n",
      "MISC   0.020\n",
      "O      0.014\n",
      "ORG    0.006\n",
      "PER    0.006\n",
      "-----  -----\n",
      "\n",
      "===================\n",
      "TEST 24: average_individual_fairness\n",
      "Examples used for evaluation: 63\n",
      "Groups: 1q 2q 3q 4q 5q 6q\n",
      "-----  ---------------------------\n",
      "CLASS  average_individual_fairness\n",
      "LOC    0.007\n",
      "MISC   0.010\n",
      "O      0.005\n",
      "ORG    0.004\n",
      "PER    0.004\n",
      "-----  ---------------------------\n",
      "\n",
      "===================\n",
      "TEST 25: perturb_score_range\n",
      "Examples used for evaluation: 2200\n",
      "Groups: 1q 2q 3q 4q 5q 6q\n",
      "-----  -------------------\n",
      "CLASS  perturb_score_range\n",
      "all    0.071\n",
      "-----  -------------------\n",
      "\n",
      "===================\n",
      "TEST 26: perturb_score_deviation\n",
      "Examples used for evaluation: 2200\n",
      "Groups: 1q 2q 3q 4q 5q 6q\n",
      "-----  -----------------------\n",
      "CLASS  perturb_score_deviation\n",
      "all    0.028\n",
      "-----  -----------------------\n",
      "\n",
      "===================\n",
      "TEST 27: perturbation_score_sensitivity\n",
      "Examples used for evaluation: 2200\n",
      "Groups: 1q 2q 3q 4q 5q 6q\n",
      "-----  ------------------------------\n",
      "CLASS  perturbation_score_sensitivity\n",
      "all    0.027\n",
      "-----  ------------------------------\n",
      "\n",
      "\n",
      "\n",
      "\n"
     ]
    }
   ],
   "source": [
    "run_and_save_res(\"grouped_country_by_gdp_ppp_quantile\", model_name, task=\"NER\")"
   ]
  },
  {
   "cell_type": "code",
   "execution_count": 8,
   "metadata": {},
   "outputs": [
    {
     "name": "stderr",
     "output_type": "stream",
     "text": [
      "WARNING:checklist_fork.checklist.graphs.graphs:Missing results for test fped.\n",
      "ERROR:checklist_fork.checklist.graphs.graphs:Reason: FPR not available for the task, seq:True\n",
      "NoneType: None\n",
      "WARNING:checklist_fork.checklist.graphs.graphs:Missing results for test fpr_ratio_bcm.\n",
      "ERROR:checklist_fork.checklist.graphs.graphs:Reason: FPR not available for the task, seq:True\n",
      "NoneType: None\n",
      "WARNING:checklist_fork.checklist.graphs.graphs:Missing results for test tnr_gap_pcm.\n",
      "ERROR:checklist_fork.checklist.graphs.graphs:Reason: TNR not available for the task, seq:True\n",
      "NoneType: None\n",
      "WARNING:checklist_fork.checklist.graphs.graphs:Missing results for test aeg.\n",
      "ERROR:checklist_fork.checklist.graphs.graphs:Reason: use_pos_score_in_binary_sent is True but classification is not binary.\n",
      "NoneType: None\n"
     ]
    },
    {
     "data": {
      "image/png": "[encoded data removed]",
      "text/plain": [
       "<Figure size 504x316.8 with 2 Axes>"
      ]
     },
     "metadata": {
      "needs_background": "light"
     },
     "output_type": "display_data"
    },
    {
     "name": "stderr",
     "output_type": "stream",
     "text": [
      "WARNING:checklist_fork.checklist.graphs.graphs:Missing results for the test. Reason: 'TypeError' object has no attribute 'results'\n"
     ]
    },
    {
     "data": {
      "image/png": "[encoded data removed]",
      "text/plain": [
       "<Figure size 432x39.6 with 2 Axes>"
      ]
     },
     "metadata": {
      "needs_background": "light"
     },
     "output_type": "display_data"
    }
   ],
   "source": [
    "load_and_plot(\"grouped_country_by_gdp_ppp_quantile\", model_name, cl=\"LOC\")"
   ]
  },
  {
   "cell_type": "markdown",
   "metadata": {},
   "source": [
    "### By Region"
   ]
  },
  {
   "cell_type": "code",
   "execution_count": null,
   "metadata": {},
   "outputs": [],
   "source": [
    "run_and_save_res(\"grouped_country_by_region\", model_name, task=\"NER\")"
   ]
  },
  {
   "cell_type": "code",
   "execution_count": null,
   "metadata": {},
   "outputs": [],
   "source": [
    "load_and_plot(\"grouped_country_by_region\", model_name, cl=\"LOC\")"
   ]
  },
  {
   "cell_type": "markdown",
   "metadata": {},
   "source": [
    "## Gender (Names)  (PER)"
   ]
  },
  {
   "cell_type": "code",
   "execution_count": null,
   "metadata": {},
   "outputs": [],
   "source": [
    "run_and_save_res(\"names_gender\", model_name, task=\"NER\")"
   ]
  },
  {
   "cell_type": "code",
   "execution_count": null,
   "metadata": {},
   "outputs": [],
   "source": [
    "load_and_plot(\"names_gender\", model_name, cl=\"PER\")"
   ]
  },
  {
   "cell_type": "code",
   "execution_count": null,
   "metadata": {},
   "outputs": [],
   "source": [
    "suite = test_model_on_saved_suite(\n",
    "    suite_name=\"names_gender\",\n",
    "    mname=model_name,\n",
    "    #repred=True,\n",
    "    tests=[BasicSeqMetrics()],\n",
    "    task=\"NER\"\n",
    ")"
   ]
  },
  {
   "cell_type": "code",
   "execution_count": null,
   "metadata": {},
   "outputs": [],
   "source": []
  },
  {
   "cell_type": "code",
   "execution_count": null,
   "metadata": {},
   "outputs": [],
   "source": []
  },
  {
   "cell_type": "code",
   "execution_count": null,
   "metadata": {},
   "outputs": [],
   "source": []
  },
  {
   "cell_type": "code",
   "execution_count": null,
   "metadata": {},
   "outputs": [],
   "source": []
  }
 ],
 "metadata": {
  "kernelspec": {
   "display_name": "Environment (conda_btools)",
   "language": "python",
   "name": "conda_btools"
  },
  "language_info": {
   "codemirror_mode": {
    "name": "ipython",
    "version": 3
   },
   "file_extension": ".py",
   "mimetype": "text/x-python",
   "name": "python",
   "nbconvert_exporter": "python",
   "pygments_lexer": "ipython3",
   "version": "3.7.9"
  }
 },
 "nbformat": 4,
 "nbformat_minor": 4
}
