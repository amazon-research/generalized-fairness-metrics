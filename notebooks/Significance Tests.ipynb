{
 "cells": [
  {
   "cell_type": "code",
   "execution_count": 1,
   "metadata": {},
   "outputs": [],
   "source": [
    "import sys\n",
    "sys.path.insert(0, \"../\")\n",
    "\n",
    "from checklist_fork.checklist.editor import Editor\n",
    "from src.tests.fill_the_lexicon import fill_the_lexicon\n",
    "from src.tests.test_model import test_model_on_saved_suite, _get_samples_path\n",
    "\n",
    "from src.tests.test_suites.explicit_terms_suites import *\n",
    "import src.config as cfg\n",
    "from checklist_fork.checklist.tests import *\n",
    "from checklist_fork.checklist.graphs.graphs import *\n",
    "from src.tests.save_and_load import *\n",
    "import dill\n",
    "\n",
    "editor = Editor()\n",
    "fill_the_lexicon(editor)\n",
    "\n",
    "%load_ext autoreload\n",
    "%autoreload 2"
   ]
  },
  {
   "cell_type": "code",
   "execution_count": 2,
   "metadata": {},
   "outputs": [],
   "source": [
    "def run_and_save_res(suite_name, model_name, task=\"SENT\", tests=None):\n",
    "    if tests is None:\n",
    "        tests = get_all_tests()\n",
    "\n",
    "    suite = test_model_on_saved_suite(\n",
    "        suite_name=suite_name,\n",
    "        mname=model_name,\n",
    "        tests=tests,\n",
    "        task=task\n",
    "    )\n",
    "\n",
    "    name2result_dict = suite.get_result_dict()\n",
    "    save_results(name2result_dict, model_name)\n",
    "\n",
    "all_tests = get_all_tests()"
   ]
  },
  {
   "cell_type": "code",
   "execution_count": 3,
   "metadata": {},
   "outputs": [
    {
     "name": "stderr",
     "output_type": "stream",
     "text": [
      "INFO:root:Sample already exists, checking that suite matches the sample...\n",
      "INFO:src.tests.test_model:roberta-semeval-2 predictions already exist.\n",
      "INFO:src.tests.test_model:>>> Testing roberta-semeval-2 ...\n",
      "INFO:checklist_fork.checklist.eval_core:Evaluating on wilcoxon...\n"
     ]
    },
    {
     "name": "stdout",
     "output_type": "stream",
     "text": [
      "names_gender\n",
      "\n",
      "###################################\n",
      "#                                 #\n",
      "#     Eval Core: names_gender     #\n",
      "#                                 #\n",
      "###################################\n",
      "\n",
      "===================\n",
      "TEST 1: wilcoxon\n",
      "Threshold: 0.05\n",
      "Significance test wilcoxon: PASSED\n",
      "Statistic: 398.0000, p-value: 0.8719 (8.72e-01)\n",
      "\n",
      "\n",
      "\n",
      "\n"
     ]
    },
    {
     "data": {
      "text/plain": [
       "<checklist_fork.checklist.test_suite.TestSuite at 0x7fedaca6ead0>"
      ]
     },
     "execution_count": 3,
     "metadata": {},
     "output_type": "execute_result"
    }
   ],
   "source": [
    "test_model_on_saved_suite(\"names_gender\", \"roberta-semeval-2\", tests=[Wilcoxon(cl=1)], task=\"SENT\")"
   ]
  },
  {
   "cell_type": "code",
   "execution_count": 4,
   "metadata": {},
   "outputs": [
    {
     "name": "stderr",
     "output_type": "stream",
     "text": [
      "INFO:root:Sample already exists, checking that suite matches the sample...\n",
      "INFO:src.tests.test_model:roberta-semeval-3 predictions already exist.\n",
      "INFO:src.tests.test_model:>>> Testing roberta-semeval-3 ...\n",
      "INFO:checklist_fork.checklist.eval_core:Evaluating on wilcoxon...\n"
     ]
    },
    {
     "name": "stdout",
     "output_type": "stream",
     "text": [
      "names_gender\n",
      "\n",
      "###################################\n",
      "#                                 #\n",
      "#     Eval Core: names_gender     #\n",
      "#                                 #\n",
      "###################################\n",
      "\n",
      "===================\n",
      "TEST 1: wilcoxon\n",
      "Threshold: 0.05\n",
      "Significance test wilcoxon: FAILED\n",
      "Statistic: 281.0000, p-value: 0.0000 (3.05e-06)\n",
      "\n",
      "\n",
      "\n",
      "\n"
     ]
    },
    {
     "data": {
      "text/plain": [
       "<checklist_fork.checklist.test_suite.TestSuite at 0x7fed0937ac90>"
      ]
     },
     "execution_count": 4,
     "metadata": {},
     "output_type": "execute_result"
    }
   ],
   "source": [
    "test_model_on_saved_suite(\"names_gender\", \"roberta-semeval-3\", tests=[Wilcoxon(cl=2, evaluate_on_all=True)], task=\"SENT\")"
   ]
  },
  {
   "cell_type": "code",
   "execution_count": 5,
   "metadata": {},
   "outputs": [
    {
     "name": "stderr",
     "output_type": "stream",
     "text": [
      "INFO:root:Sample already exists, checking that suite matches the sample...\n",
      "INFO:src.tests.test_model:roberta-semeval-2 predictions already exist.\n",
      "INFO:src.tests.test_model:>>> Testing roberta-semeval-2 ...\n",
      "INFO:checklist_fork.checklist.eval_core:Evaluating on friedman...\n"
     ]
    },
    {
     "name": "stdout",
     "output_type": "stream",
     "text": [
      "grouped_religion\n",
      "\n",
      "#######################################\n",
      "#                                     #\n",
      "#     Eval Core: grouped_religion     #\n",
      "#                                     #\n",
      "#######################################\n",
      "\n",
      "===================\n",
      "TEST 1: friedman\n",
      "Threshold: 0.05\n",
      "Significance test friedman: FAILED\n",
      "Statistic: 130.0837, p-value: 0.0000 (1.14e-23)\n",
      "\n",
      "\n",
      "\n",
      "\n"
     ]
    },
    {
     "data": {
      "text/plain": [
       "<checklist_fork.checklist.test_suite.TestSuite at 0x7fed0937ac50>"
      ]
     },
     "execution_count": 5,
     "metadata": {},
     "output_type": "execute_result"
    }
   ],
   "source": [
    "test_model_on_saved_suite(\"grouped_religion\", \"roberta-semeval-2\", tests=[Friedman(cl=1)], task=\"SENT\")"
   ]
  },
  {
   "cell_type": "code",
   "execution_count": 6,
   "metadata": {},
   "outputs": [
    {
     "name": "stderr",
     "output_type": "stream",
     "text": [
      "INFO:root:Sample already exists, checking that suite matches the sample...\n",
      "INFO:src.tests.test_model:roberta-semeval-2 predictions already exist.\n",
      "INFO:src.tests.test_model:>>> Testing roberta-semeval-2 ...\n",
      "INFO:checklist_fork.checklist.eval_core:Evaluating on friedman...\n"
     ]
    },
    {
     "name": "stdout",
     "output_type": "stream",
     "text": [
      "grouped_religion\n",
      "\n",
      "#######################################\n",
      "#                                     #\n",
      "#     Eval Core: grouped_religion     #\n",
      "#                                     #\n",
      "#######################################\n",
      "\n",
      "===================\n",
      "TEST 1: friedman\n",
      "Threshold: 0.05\n",
      "Significance test friedman: FAILED\n",
      "Statistic: 130.0837, p-value: 0.0000 (1.14e-23)\n",
      "\n",
      "\n",
      "\n",
      "\n"
     ]
    },
    {
     "data": {
      "text/plain": [
       "<checklist_fork.checklist.test_suite.TestSuite at 0x7fed09349b10>"
      ]
     },
     "execution_count": 6,
     "metadata": {},
     "output_type": "execute_result"
    }
   ],
   "source": [
    "test_model_on_saved_suite(\"grouped_religion\", \"roberta-semeval-2\", tests=[Friedman(cl=1)], task=\"SENT\")"
   ]
  },
  {
   "cell_type": "code",
   "execution_count": 7,
   "metadata": {},
   "outputs": [
    {
     "name": "stderr",
     "output_type": "stream",
     "text": [
      "INFO:root:Sample already exists, checking that suite matches the sample...\n",
      "INFO:src.tests.test_model:roberta-semeval-3 predictions already exist.\n",
      "INFO:src.tests.test_model:>>> Testing roberta-semeval-3 ...\n",
      "INFO:checklist_fork.checklist.eval_core:Evaluating on friedman...\n"
     ]
    },
    {
     "name": "stdout",
     "output_type": "stream",
     "text": [
      "grouped_religion\n",
      "\n",
      "#######################################\n",
      "#                                     #\n",
      "#     Eval Core: grouped_religion     #\n",
      "#                                     #\n",
      "#######################################\n",
      "\n",
      "===================\n",
      "TEST 1: friedman\n",
      "Threshold: 0.05\n",
      "Significance test friedman: FAILED\n",
      "Statistic: 188.5605, p-value: 0.0000 (8.24e-36)\n",
      "\n",
      "\n",
      "\n",
      "\n"
     ]
    },
    {
     "data": {
      "text/plain": [
       "<checklist_fork.checklist.test_suite.TestSuite at 0x7fed08f9e550>"
      ]
     },
     "execution_count": 7,
     "metadata": {},
     "output_type": "execute_result"
    }
   ],
   "source": [
    "test_model_on_saved_suite(\"grouped_religion\", \"roberta-semeval-3\", tests=[Friedman(cl=2)], task=\"SENT\")"
   ]
  },
  {
   "cell_type": "code",
   "execution_count": 8,
   "metadata": {},
   "outputs": [
    {
     "name": "stderr",
     "output_type": "stream",
     "text": [
      "INFO:root:Sample already exists, checking that suite matches the sample...\n",
      "INFO:src.tests.test_model:roberta-semeval-2 predictions already exist.\n",
      "INFO:src.tests.test_model:>>> Testing roberta-semeval-2 ...\n",
      "INFO:checklist_fork.checklist.eval_core:Evaluating on friedman...\n"
     ]
    },
    {
     "name": "stdout",
     "output_type": "stream",
     "text": [
      "grouped_sexuality\n",
      "\n",
      "########################################\n",
      "#                                      #\n",
      "#     Eval Core: grouped_sexuality     #\n",
      "#                                      #\n",
      "########################################\n",
      "\n",
      "===================\n",
      "TEST 1: friedman\n",
      "Threshold: 0.05\n",
      "Significance test friedman: FAILED\n",
      "Statistic: 45.7600, p-value: 0.0000 (2.76e-09)\n",
      "\n",
      "\n",
      "\n",
      "\n"
     ]
    },
    {
     "data": {
      "text/plain": [
       "<checklist_fork.checklist.test_suite.TestSuite at 0x7fed0904ce50>"
      ]
     },
     "execution_count": 8,
     "metadata": {},
     "output_type": "execute_result"
    }
   ],
   "source": [
    "test_model_on_saved_suite(\"grouped_sexuality\", \"roberta-semeval-2\", tests=[Friedman(cl=1)], task=\"SENT\")"
   ]
  },
  {
   "cell_type": "code",
   "execution_count": 9,
   "metadata": {},
   "outputs": [
    {
     "name": "stderr",
     "output_type": "stream",
     "text": [
      "INFO:root:Sample already exists, checking that suite matches the sample...\n",
      "INFO:src.tests.test_model:roberta-semeval-3 predictions already exist.\n",
      "INFO:src.tests.test_model:>>> Testing roberta-semeval-3 ...\n",
      "INFO:checklist_fork.checklist.eval_core:Evaluating on friedman...\n"
     ]
    },
    {
     "name": "stdout",
     "output_type": "stream",
     "text": [
      "grouped_sexuality\n",
      "\n",
      "########################################\n",
      "#                                      #\n",
      "#     Eval Core: grouped_sexuality     #\n",
      "#                                      #\n",
      "########################################\n",
      "\n",
      "===================\n",
      "TEST 1: friedman\n",
      "Threshold: 0.05\n",
      "Significance test friedman: FAILED\n",
      "Statistic: 114.1467, p-value: 0.0000 (9.49e-24)\n",
      "\n",
      "\n",
      "\n",
      "\n"
     ]
    },
    {
     "data": {
      "text/plain": [
       "<checklist_fork.checklist.test_suite.TestSuite at 0x7fed09012d90>"
      ]
     },
     "execution_count": 9,
     "metadata": {},
     "output_type": "execute_result"
    }
   ],
   "source": [
    "test_model_on_saved_suite(\"grouped_sexuality\", \"roberta-semeval-3\", tests=[Friedman(cl=2)], task=\"SENT\")"
   ]
  },
  {
   "cell_type": "code",
   "execution_count": 10,
   "metadata": {},
   "outputs": [
    {
     "name": "stderr",
     "output_type": "stream",
     "text": [
      "INFO:root:Sample already exists, checking that suite matches the sample...\n",
      "INFO:src.tests.test_model:roberta-semeval-2 predictions already exist.\n",
      "INFO:src.tests.test_model:>>> Testing roberta-semeval-2 ...\n",
      "INFO:checklist_fork.checklist.eval_core:Evaluating on friedman...\n"
     ]
    },
    {
     "name": "stdout",
     "output_type": "stream",
     "text": [
      "grouped_gender\n",
      "\n",
      "#####################################\n",
      "#                                   #\n",
      "#     Eval Core: grouped_gender     #\n",
      "#                                   #\n",
      "#####################################\n",
      "\n",
      "===================\n",
      "TEST 1: friedman\n",
      "Threshold: 0.05\n",
      "Significance test friedman: FAILED\n",
      "Statistic: 50.0516, p-value: 0.0000 (1.41e-08)\n",
      "\n",
      "\n",
      "\n",
      "\n"
     ]
    },
    {
     "data": {
      "text/plain": [
       "<checklist_fork.checklist.test_suite.TestSuite at 0x7fed08cf5e50>"
      ]
     },
     "execution_count": 10,
     "metadata": {},
     "output_type": "execute_result"
    }
   ],
   "source": [
    "test_model_on_saved_suite(\"grouped_gender\", \"roberta-semeval-2\", tests=[Friedman(cl=1)], task=\"SENT\")"
   ]
  },
  {
   "cell_type": "code",
   "execution_count": 11,
   "metadata": {},
   "outputs": [
    {
     "name": "stderr",
     "output_type": "stream",
     "text": [
      "INFO:root:Sample already exists, checking that suite matches the sample...\n",
      "INFO:src.tests.test_model:roberta-semeval-3 predictions already exist.\n",
      "INFO:src.tests.test_model:>>> Testing roberta-semeval-3 ...\n",
      "INFO:checklist_fork.checklist.eval_core:Evaluating on friedman...\n"
     ]
    },
    {
     "name": "stdout",
     "output_type": "stream",
     "text": [
      "grouped_gender\n",
      "\n",
      "#####################################\n",
      "#                                   #\n",
      "#     Eval Core: grouped_gender     #\n",
      "#                                   #\n",
      "#####################################\n",
      "\n",
      "===================\n",
      "TEST 1: friedman\n",
      "Threshold: 0.05\n",
      "Significance test friedman: FAILED\n",
      "Statistic: 126.2571, p-value: 0.0000 (3.80e-24)\n",
      "\n",
      "\n",
      "\n",
      "\n"
     ]
    },
    {
     "data": {
      "text/plain": [
       "<checklist_fork.checklist.test_suite.TestSuite at 0x7fed08cf5e90>"
      ]
     },
     "execution_count": 11,
     "metadata": {},
     "output_type": "execute_result"
    }
   ],
   "source": [
    "test_model_on_saved_suite(\"grouped_gender\", \"roberta-semeval-3\", tests=[Friedman(cl=2)], task=\"SENT\")"
   ]
  },
  {
   "cell_type": "code",
   "execution_count": 12,
   "metadata": {},
   "outputs": [
    {
     "name": "stderr",
     "output_type": "stream",
     "text": [
      "INFO:root:Sample already exists, checking that suite matches the sample...\n",
      "INFO:src.tests.test_model:roberta-semeval-2 predictions already exist.\n",
      "INFO:src.tests.test_model:>>> Testing roberta-semeval-2 ...\n",
      "INFO:checklist_fork.checklist.eval_core:Evaluating on friedman...\n"
     ]
    },
    {
     "name": "stdout",
     "output_type": "stream",
     "text": [
      "grouped_disability\n",
      "\n",
      "#########################################\n",
      "#                                       #\n",
      "#     Eval Core: grouped_disability     #\n",
      "#                                       #\n",
      "#########################################\n",
      "\n",
      "===================\n",
      "TEST 1: friedman\n",
      "Threshold: 0.05\n",
      "Significance test friedman: FAILED\n",
      "Statistic: 173.3883, p-value: 0.0000 (9.67e-31)\n",
      "\n",
      "\n",
      "\n",
      "\n"
     ]
    },
    {
     "data": {
      "text/plain": [
       "<checklist_fork.checklist.test_suite.TestSuite at 0x7fed08bc1cd0>"
      ]
     },
     "execution_count": 12,
     "metadata": {},
     "output_type": "execute_result"
    }
   ],
   "source": [
    "test_model_on_saved_suite(\"grouped_disability\", \"roberta-semeval-2\", tests=[Friedman(cl=1)], task=\"SENT\")"
   ]
  },
  {
   "cell_type": "code",
   "execution_count": 13,
   "metadata": {},
   "outputs": [
    {
     "name": "stderr",
     "output_type": "stream",
     "text": [
      "INFO:root:Sample already exists, checking that suite matches the sample...\n",
      "INFO:src.tests.test_model:roberta-semeval-3 predictions already exist.\n",
      "INFO:src.tests.test_model:>>> Testing roberta-semeval-3 ...\n",
      "INFO:checklist_fork.checklist.eval_core:Evaluating on friedman...\n"
     ]
    },
    {
     "name": "stdout",
     "output_type": "stream",
     "text": [
      "grouped_disability\n",
      "\n",
      "#########################################\n",
      "#                                       #\n",
      "#     Eval Core: grouped_disability     #\n",
      "#                                       #\n",
      "#########################################\n",
      "\n",
      "===================\n",
      "TEST 1: friedman\n",
      "Threshold: 0.05\n",
      "Significance test friedman: FAILED\n",
      "Statistic: 238.8446, p-value: 0.0000 (2.89e-44)\n",
      "\n",
      "\n",
      "\n",
      "\n"
     ]
    },
    {
     "data": {
      "text/plain": [
       "<checklist_fork.checklist.test_suite.TestSuite at 0x7fed08a7d1d0>"
      ]
     },
     "execution_count": 13,
     "metadata": {},
     "output_type": "execute_result"
    }
   ],
   "source": [
    "test_model_on_saved_suite(\"grouped_disability\", \"roberta-semeval-3\", tests=[Friedman(cl=2)], task=\"SENT\")"
   ]
  },
  {
   "cell_type": "code",
   "execution_count": 14,
   "metadata": {},
   "outputs": [
    {
     "name": "stderr",
     "output_type": "stream",
     "text": [
      "INFO:root:Sample already exists, checking that suite matches the sample...\n",
      "INFO:src.tests.test_model:roberta-semeval-2 predictions already exist.\n",
      "INFO:src.tests.test_model:>>> Testing roberta-semeval-2 ...\n",
      "INFO:checklist_fork.checklist.eval_core:Evaluating on friedman...\n"
     ]
    },
    {
     "name": "stdout",
     "output_type": "stream",
     "text": [
      "grouped_race\n",
      "\n",
      "###################################\n",
      "#                                 #\n",
      "#     Eval Core: grouped_race     #\n",
      "#                                 #\n",
      "###################################\n",
      "\n",
      "===================\n",
      "TEST 1: friedman\n",
      "Threshold: 0.05\n",
      "Significance test friedman: FAILED\n",
      "Statistic: 29.1350, p-value: 0.0000 (2.18e-05)\n",
      "\n",
      "\n",
      "\n",
      "\n"
     ]
    },
    {
     "data": {
      "text/plain": [
       "<checklist_fork.checklist.test_suite.TestSuite at 0x7fed08994110>"
      ]
     },
     "execution_count": 14,
     "metadata": {},
     "output_type": "execute_result"
    }
   ],
   "source": [
    "test_model_on_saved_suite(\"grouped_race\", \"roberta-semeval-2\", tests=[Friedman(cl=1)], task=\"SENT\")"
   ]
  },
  {
   "cell_type": "code",
   "execution_count": 15,
   "metadata": {},
   "outputs": [
    {
     "name": "stderr",
     "output_type": "stream",
     "text": [
      "INFO:root:Sample already exists, checking that suite matches the sample...\n",
      "INFO:src.tests.test_model:roberta-semeval-3 predictions already exist.\n",
      "INFO:src.tests.test_model:>>> Testing roberta-semeval-3 ...\n",
      "INFO:checklist_fork.checklist.eval_core:Evaluating on friedman...\n"
     ]
    },
    {
     "name": "stdout",
     "output_type": "stream",
     "text": [
      "grouped_race\n",
      "\n",
      "###################################\n",
      "#                                 #\n",
      "#     Eval Core: grouped_race     #\n",
      "#                                 #\n",
      "###################################\n",
      "\n",
      "===================\n",
      "TEST 1: friedman\n",
      "Threshold: 0.05\n",
      "Significance test friedman: FAILED\n",
      "Statistic: 26.1236, p-value: 0.0001 (8.44e-05)\n",
      "\n",
      "\n",
      "\n",
      "\n"
     ]
    },
    {
     "data": {
      "text/plain": [
       "<checklist_fork.checklist.test_suite.TestSuite at 0x7fed08994750>"
      ]
     },
     "execution_count": 15,
     "metadata": {},
     "output_type": "execute_result"
    }
   ],
   "source": [
    "test_model_on_saved_suite(\"grouped_race\", \"roberta-semeval-3\", tests=[Friedman(cl=2)], task=\"SENT\")"
   ]
  },
  {
   "cell_type": "code",
   "execution_count": 16,
   "metadata": {},
   "outputs": [
    {
     "name": "stderr",
     "output_type": "stream",
     "text": [
      "INFO:root:Sample already exists, checking that suite matches the sample...\n",
      "INFO:src.tests.test_model:roberta-semeval-2 predictions already exist.\n",
      "INFO:src.tests.test_model:>>> Testing roberta-semeval-2 ...\n",
      "INFO:checklist_fork.checklist.eval_core:Evaluating on friedman...\n"
     ]
    },
    {
     "name": "stdout",
     "output_type": "stream",
     "text": [
      "grouped_age\n",
      "\n",
      "##################################\n",
      "#                                #\n",
      "#     Eval Core: grouped_age     #\n",
      "#                                #\n",
      "##################################\n",
      "\n",
      "===================\n",
      "TEST 1: friedman\n",
      "Threshold: 0.05\n",
      "Significance test friedman: FAILED\n",
      "Statistic: 6.0500, p-value: 0.0486 (4.86e-02)\n",
      "\n",
      "\n",
      "\n",
      "\n"
     ]
    },
    {
     "data": {
      "text/plain": [
       "<checklist_fork.checklist.test_suite.TestSuite at 0x7fed086f9050>"
      ]
     },
     "execution_count": 16,
     "metadata": {},
     "output_type": "execute_result"
    }
   ],
   "source": [
    "test_model_on_saved_suite(\"grouped_age\", \"roberta-semeval-2\", tests=[Friedman(cl=1)], task=\"SENT\")"
   ]
  },
  {
   "cell_type": "code",
   "execution_count": 17,
   "metadata": {},
   "outputs": [
    {
     "name": "stderr",
     "output_type": "stream",
     "text": [
      "INFO:root:Sample already exists, checking that suite matches the sample...\n",
      "INFO:src.tests.test_model:roberta-semeval-3 predictions already exist.\n",
      "INFO:src.tests.test_model:>>> Testing roberta-semeval-3 ...\n",
      "INFO:checklist_fork.checklist.eval_core:Evaluating on friedman...\n"
     ]
    },
    {
     "name": "stdout",
     "output_type": "stream",
     "text": [
      "grouped_age\n",
      "\n",
      "##################################\n",
      "#                                #\n",
      "#     Eval Core: grouped_age     #\n",
      "#                                #\n",
      "##################################\n",
      "\n",
      "===================\n",
      "TEST 1: friedman\n",
      "Threshold: 0.05\n",
      "Significance test friedman: FAILED\n",
      "Statistic: 33.7000, p-value: 0.0000 (4.81e-08)\n",
      "\n",
      "\n",
      "\n",
      "\n"
     ]
    },
    {
     "data": {
      "text/plain": [
       "<checklist_fork.checklist.test_suite.TestSuite at 0x7fed08791510>"
      ]
     },
     "execution_count": 17,
     "metadata": {},
     "output_type": "execute_result"
    }
   ],
   "source": [
    "test_model_on_saved_suite(\"grouped_age\", \"roberta-semeval-3\", tests=[Friedman(cl=2)], task=\"SENT\")"
   ]
  },
  {
   "cell_type": "code",
   "execution_count": 18,
   "metadata": {},
   "outputs": [
    {
     "name": "stderr",
     "output_type": "stream",
     "text": [
      "INFO:root:Sample already exists, checking that suite matches the sample...\n",
      "INFO:src.tests.test_model:roberta-semeval-2 predictions already exist.\n",
      "INFO:src.tests.test_model:>>> Testing roberta-semeval-2 ...\n",
      "INFO:checklist_fork.checklist.eval_core:Evaluating on friedman...\n"
     ]
    },
    {
     "name": "stdout",
     "output_type": "stream",
     "text": [
      "grouped_country_by_gdp_ppp_quantile\n",
      "\n",
      "##########################################################\n",
      "#                                                        #\n",
      "#     Eval Core: grouped_country_by_gdp_ppp_quantile     #\n",
      "#                                                        #\n",
      "##########################################################\n",
      "\n",
      "===================\n",
      "TEST 1: friedman\n",
      "Threshold: 0.05\n",
      "Significance test friedman: FAILED\n",
      "Statistic: 13.8286, p-value: 0.0167 (1.67e-02)\n",
      "\n",
      "\n",
      "\n",
      "\n"
     ]
    },
    {
     "data": {
      "text/plain": [
       "<checklist_fork.checklist.test_suite.TestSuite at 0x7fed086d4d10>"
      ]
     },
     "execution_count": 18,
     "metadata": {},
     "output_type": "execute_result"
    }
   ],
   "source": [
    "test_model_on_saved_suite(\"grouped_country_by_gdp_ppp_quantile\",\n",
    "                          \"roberta-semeval-2\", tests=[Friedman(cl=1)], task=\"SENT\")"
   ]
  },
  {
   "cell_type": "code",
   "execution_count": 19,
   "metadata": {},
   "outputs": [
    {
     "name": "stderr",
     "output_type": "stream",
     "text": [
      "INFO:root:Sample already exists, checking that suite matches the sample...\n",
      "INFO:src.tests.test_model:roberta-semeval-3 predictions already exist.\n",
      "INFO:src.tests.test_model:>>> Testing roberta-semeval-3 ...\n",
      "INFO:checklist_fork.checklist.eval_core:Evaluating on friedman...\n"
     ]
    },
    {
     "name": "stdout",
     "output_type": "stream",
     "text": [
      "grouped_country_by_gdp_ppp_quantile\n",
      "\n",
      "##########################################################\n",
      "#                                                        #\n",
      "#     Eval Core: grouped_country_by_gdp_ppp_quantile     #\n",
      "#                                                        #\n",
      "##########################################################\n",
      "\n",
      "===================\n",
      "TEST 1: friedman\n",
      "Threshold: 0.05\n",
      "Significance test friedman: FAILED\n",
      "Statistic: 74.0758, p-value: 0.0000 (1.45e-14)\n",
      "\n",
      "\n",
      "\n",
      "\n"
     ]
    },
    {
     "data": {
      "text/plain": [
       "<checklist_fork.checklist.test_suite.TestSuite at 0x7fed08683350>"
      ]
     },
     "execution_count": 19,
     "metadata": {},
     "output_type": "execute_result"
    }
   ],
   "source": [
    "test_model_on_saved_suite(\"grouped_country_by_gdp_ppp_quantile\", \"roberta-semeval-3\", tests=[Friedman(cl=2)], task=\"SENT\")"
   ]
  },
  {
   "cell_type": "code",
   "execution_count": null,
   "metadata": {},
   "outputs": [],
   "source": []
  },
  {
   "cell_type": "code",
   "execution_count": null,
   "metadata": {},
   "outputs": [],
   "source": []
  },
  {
   "cell_type": "code",
   "execution_count": null,
   "metadata": {},
   "outputs": [],
   "source": []
  },
  {
   "cell_type": "code",
   "execution_count": null,
   "metadata": {},
   "outputs": [],
   "source": []
  }
 ],
 "metadata": {
  "kernelspec": {
   "display_name": "Environment (conda_btools)",
   "language": "python",
   "name": "conda_btools"
  },
  "language_info": {
   "codemirror_mode": {
    "name": "ipython",
    "version": 3
   },
   "file_extension": ".py",
   "mimetype": "text/x-python",
   "name": "python",
   "nbconvert_exporter": "python",
   "pygments_lexer": "ipython3",
   "version": "3.7.9"
  }
 },
 "nbformat": 4,
 "nbformat_minor": 4
}
